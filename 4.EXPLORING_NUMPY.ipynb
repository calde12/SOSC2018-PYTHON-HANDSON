{
 "cells": [
  {
   "cell_type": "markdown",
   "metadata": {},
   "source": [
    "<img align=\"right\" width=\"200\" height=\"200\" src=\"ovalmoney-logo-green.png\">\n",
    "# A very hurried course in Python\n",
    "#### By Stefano Calderan, Data Scientist @ Oval Money"
   ]
  },
  {
   "cell_type": "markdown",
   "metadata": {},
   "source": [
    "## NumPy"
   ]
  },
  {
   "cell_type": "code",
   "execution_count": null,
   "metadata": {},
   "outputs": [],
   "source": [
    "import numpy as np        # Standard abbreviation for numpy"
   ]
  },
  {
   "cell_type": "markdown",
   "metadata": {},
   "source": [
    "### Why NumPy?\n",
    "\n",
    "- It's free\n",
    "- It is a package that provides **_high-performance_ vector, matrix and higher-dimensional data structures** (as tensors). *High performance means that computations are VERY fast, because it is  implemented in C and Fortran and calculations are vectorized, i.e. they're formulated with vectors and matrices\n",
    "- Everybody uses it\n",
    "\n",
    "### NumPy arrays\n",
    "\n",
    "The arrays are the basic data structures of `numpy`. Every array supports by default a series of main **mathematical and statistical operations implemented as methods**.  \n",
    "Let's see how to build them.  \n",
    "\n",
    "#### NumPy arrays from sequences\n",
    "We can build them by starting from sequences (lists, sets or tuples)"
   ]
  },
  {
   "cell_type": "code",
   "execution_count": null,
   "metadata": {},
   "outputs": [],
   "source": [
    "# 1-Dimensional arrays\n",
    "\n",
    "a1 = np.array([1, 2, 3])\n",
    "print(a1.shape)            # .shape is an attribute of every array"
   ]
  },
  {
   "cell_type": "code",
   "execution_count": null,
   "metadata": {},
   "outputs": [],
   "source": [
    "# a1 is neither a column or a row vector. TO transfrorm it into a column or row vector, you\n",
    "# have to use the .reshape() method\n",
    "\n",
    "a_column = a1.reshape(3, 1)           # reshape return a new vector\n",
    "print('column:\\n', a_column)\n",
    "a_row = a1.reshape(1, 3)\n",
    "print('row:', a_row)"
   ]
  },
  {
   "cell_type": "code",
   "execution_count": null,
   "metadata": {},
   "outputs": [],
   "source": [
    "# 2-Dimensional arrays (Matrixes)\n",
    "\n",
    "M1 = np.array([[1, 2, 3], [4, 5, 6], [7, 8, 9]])\n",
    "\n",
    "print(M1)\n",
    "print(M1.shape)\n",
    "print(M1.size)"
   ]
  },
  {
   "cell_type": "code",
   "execution_count": null,
   "metadata": {},
   "outputs": [],
   "source": [
    "# We can specify the type of data inside the array\n",
    "\n",
    "M2 = np.array([[1, 2, 3], [4, 5, 6], [7, 8, 9]], dtype=float)   # use the dtype argument to specify the type\n",
    "print(M2, M2.dtype)                                             # dtype is also an attribute\n",
    "\n",
    "# if we try to assing a diffent type to an array, we get an error\n",
    "a1[0] = 'pippo'"
   ]
  },
  {
   "cell_type": "markdown",
   "metadata": {},
   "source": [
    "#### NumPy arrays from generating functions\n",
    "Here we see some useful functions provided by `numpy`"
   ]
  },
  {
   "cell_type": "code",
   "execution_count": null,
   "metadata": {},
   "outputs": [],
   "source": [
    "# range array\n",
    "a = np.arange(2, 20, 3)  # start, stop, step\n",
    "a"
   ]
  },
  {
   "cell_type": "code",
   "execution_count": null,
   "metadata": {},
   "outputs": [],
   "source": [
    "# linspace and logspace arrays\n",
    "# they divide linearly or in a log-fashion the space contained between start and stop\n",
    "\n",
    "lin = np.linspace(0, 20, 10)  # start, stop, number of instances\n",
    "print(lin)\n",
    "\n",
    "log = np.logspace(0, 2, 5, base=10)\n",
    "print(log)"
   ]
  },
  {
   "cell_type": "code",
   "execution_count": null,
   "metadata": {},
   "outputs": [],
   "source": [
    "# zeros and ones\n",
    "\n",
    "z_vector = np.zeros(5)\n",
    "z_matrix = np.zeros((3, 3))\n",
    "z_matrix_from_vector = np.zeros(6).reshape(2, 3)\n",
    "\n",
    "ones = np.ones((2, 2))\n",
    "\n",
    "print(z_vector, '\\n')\n",
    "print(z_matrix, '\\n')\n",
    "print(z_matrix_from_vector, '\\n')\n",
    "print(ones)"
   ]
  },
  {
   "cell_type": "code",
   "execution_count": null,
   "metadata": {},
   "outputs": [],
   "source": [
    "# Diagonal matrixes\n",
    "\n",
    "iden_matrix = np.identity(5)\n",
    "diag_matrix = np.diag([1, 2, 3, 4])\n",
    "diag_offset = np.diag([1, 2, 3], k=1)     # k indicates the offset from the main diagonal\n",
    "\n",
    "print(iden_matrix, '\\n')\n",
    "print(diag_matrix, '\\n')\n",
    "print(diag_offset, '\\n')"
   ]
  },
  {
   "cell_type": "markdown",
   "metadata": {},
   "source": [
    "## Indexing and slicing\n",
    "`numpy` arrays support basic indexing and slicing, plus new fancy ways of doing it"
   ]
  },
  {
   "cell_type": "code",
   "execution_count": null,
   "metadata": {},
   "outputs": [],
   "source": [
    "# 1-dimensional arrays\n",
    "\n",
    "a = np.arange(0, 3, 0.5)\n",
    "\n",
    "print(a, '\\n')\n",
    "print(a[3], '\\n')\n",
    "print(a[1:3], '\\n')\n",
    "print(a[::2])"
   ]
  },
  {
   "cell_type": "code",
   "execution_count": null,
   "metadata": {},
   "outputs": [],
   "source": [
    "# 2-dimensional arrays\n",
    "\n",
    "M = np.arange(0, 9).reshape(3, 3)\n",
    "print(M)"
   ]
  },
  {
   "cell_type": "markdown",
   "metadata": {},
   "source": [
    "For multidimensional arrays, the indexing is double: the first index refer to the **row** (first dimension, or axis 0), while the second refers to the **column** (second dimension, or axis 1) "
   ]
  },
  {
   "cell_type": "code",
   "execution_count": null,
   "metadata": {},
   "outputs": [],
   "source": [
    "print( M[0, 1], '\\n')\n",
    "print( M[1, :], '\\n')     # all the second row\n",
    "print( M[:, 2], '\\n')     # all the third column\n",
    "print( M[:2, 1], '\\n')    # thirst 2 rows, second column"
   ]
  },
  {
   "cell_type": "code",
   "execution_count": null,
   "metadata": {},
   "outputs": [],
   "source": [
    "# TO DO: starting from the M matrix defined above, create the matrix subM that corresponds to the square submatrix\n",
    "# in the left bottom corner (with elements 3,4,6,7). Use slicing\n",
    "# YOUR CODE HERE\n",
    "\n",
    "\n"
   ]
  },
  {
   "cell_type": "markdown",
   "metadata": {},
   "source": [
    "### Fancy indexing\n",
    "`numpy` arrays support very flexible way of indexing."
   ]
  },
  {
   "cell_type": "code",
   "execution_count": null,
   "metadata": {},
   "outputs": [],
   "source": [
    "# select indexes in the order you wish!\n",
    "my_indexes = [2, 1, -1, -2]\n",
    "\n",
    "a1 = np.arange(1, 6)\n",
    "print(a1, '\\n')\n",
    "print( a1[my_indexes])"
   ]
  },
  {
   "cell_type": "code",
   "execution_count": null,
   "metadata": {},
   "outputs": [],
   "source": [
    "# you can do it also with multidimensional arrays\n",
    "\n",
    "M = np.arange(0, 16).reshape(4, 4)\n",
    "M"
   ]
  },
  {
   "cell_type": "code",
   "execution_count": null,
   "metadata": {},
   "outputs": [],
   "source": [
    "M[[1, 2], [0, 3]]"
   ]
  },
  {
   "cell_type": "code",
   "execution_count": null,
   "metadata": {},
   "outputs": [],
   "source": [
    "M[1:3, [0, 2]]     # take all the lines from 1 to 2, only columns 0 and 2"
   ]
  },
  {
   "cell_type": "code",
   "execution_count": null,
   "metadata": {},
   "outputs": [],
   "source": [
    "# BOOLEAN INDEXING!\n",
    "# 1-dimensional\n",
    "\n",
    "a = np.arange(9)\n",
    "a[a < 5]                     # take elemnts from a only where the condition applies"
   ]
  },
  {
   "cell_type": "code",
   "execution_count": null,
   "metadata": {},
   "outputs": [],
   "source": [
    "a[(a < 5) | (a%2 == 0)]      # | is the bitwise or"
   ]
  },
  {
   "cell_type": "code",
   "execution_count": null,
   "metadata": {},
   "outputs": [],
   "source": [
    "M = np.arange(16).reshape(4, 4)\n",
    "\n",
    "M[M < 10]                          # on multidimensional arrays, boolean indexing returns a 1-dimensional array"
   ]
  },
  {
   "cell_type": "code",
   "execution_count": null,
   "metadata": {},
   "outputs": [],
   "source": [
    "# If you need the INDEXES where the condition applies, and not the elements, use the np.where function\n",
    "\n",
    "a = np.linspace(10, 50, 5)\n",
    "print(a)\n",
    "np.where(a%20 == 0)"
   ]
  },
  {
   "cell_type": "markdown",
   "metadata": {},
   "source": [
    "### Array operations\n",
    "`numpy` arrays allow a vectorization of operations, meaning that under the hood it applies the operation *at the same time* to the whole array"
   ]
  },
  {
   "cell_type": "code",
   "execution_count": null,
   "metadata": {},
   "outputs": [],
   "source": [
    "# We'll use these two arrays for all operations demonstrations\n",
    "\n",
    "v = np.arange(10, 60, 10)\n",
    "M = np.array( [ [i * 10 + j for j  in range(5)] for i in range(1, 6)])\n",
    "\n",
    "print(v, v.shape)\n",
    "print(M, M.shape)"
   ]
  },
  {
   "cell_type": "code",
   "execution_count": null,
   "metadata": {},
   "outputs": [],
   "source": [
    "# Scalar operations: the operation is applied to each element\n",
    "\n",
    "print(v + 1, '\\n')\n",
    "print(v * 5, '\\n')\n",
    "print(M + 10, '\\n')\n",
    "print(M * 10)"
   ]
  },
  {
   "cell_type": "markdown",
   "metadata": {},
   "source": [
    "**ELEMENT-WISE ARRAY OPERATIONS**  \n",
    "The operation is applied element by element"
   ]
  },
  {
   "cell_type": "code",
   "execution_count": null,
   "metadata": {},
   "outputs": [],
   "source": [
    "# 1-dim array\n",
    "\n",
    "v2 = np.ones(5)\n",
    "print(v)\n",
    "print(v + v2)\n",
    "\n",
    "v3 = np.arange(5)\n",
    "print(v * v3)"
   ]
  },
  {
   "cell_type": "code",
   "execution_count": null,
   "metadata": {},
   "outputs": [],
   "source": [
    "# multi-dim array\n",
    "\n",
    "N = np.arange(25).reshape(5, 5)\n",
    "print(M)\n",
    "print(N)\n",
    "print(M * N)"
   ]
  },
  {
   "cell_type": "markdown",
   "metadata": {},
   "source": [
    "If we multiply arrays with compatible shapes, we get an element-wise multiplication of each row:"
   ]
  },
  {
   "cell_type": "code",
   "execution_count": null,
   "metadata": {},
   "outputs": [],
   "source": [
    "M * v"
   ]
  },
  {
   "cell_type": "markdown",
   "metadata": {},
   "source": [
    "All the operations above are the result of the application of **broadcasting**, an operation that automatically *adjusts* the computation between objects having not the same dimension (tough they must have compatible shapes)\n",
    "<img align=\"centre\" width=\"450\" height=\"500\" src=\"broadcast.png\">\n"
   ]
  },
  {
   "cell_type": "markdown",
   "metadata": {},
   "source": [
    "## Linear algebra\n",
    "Let's now see how to do the basic operations from linear algebra"
   ]
  },
  {
   "cell_type": "code",
   "execution_count": null,
   "metadata": {},
   "outputs": [],
   "source": [
    "# INNER PRODUCT\n",
    "# Use the function np.dot() or the array method .dot\n",
    "\n",
    "v1 = np.arange(6)\n",
    "v2 = np.ones(6)\n",
    "\n",
    "print(v1, v2)\n",
    "print(np.dot(v1, v2))\n",
    "print(v1.dot(v2))"
   ]
  },
  {
   "cell_type": "code",
   "execution_count": null,
   "metadata": {},
   "outputs": [],
   "source": [
    "# MATRIX PRODUCT (m, n) x (n, p)\n",
    "# Use np.matmul\n",
    "\n",
    "M = np.arange(6).reshape(2, 3)\n",
    "N = np.arange(6, 18).reshape(3, 4)\n",
    "P = np.matmul(M, N)\n",
    "\n",
    "print(M.shape, N.shape)\n",
    "print(P, '\\n', P.shape)"
   ]
  },
  {
   "cell_type": "markdown",
   "metadata": {},
   "source": [
    "The inner product and the matrix multiplication can be done easily if, instead of creating numpy arrays, we create directly numpy matrixes:"
   ]
  },
  {
   "cell_type": "code",
   "execution_count": null,
   "metadata": {},
   "outputs": [],
   "source": [
    "# Matrix product\n",
    "\n",
    "M = np.mat(np.arange(6).reshape(2, 3))\n",
    "N = np.mat(np.arange(6, 18).reshape(3, 4))\n",
    "P = M * N\n",
    "print(P)"
   ]
  },
  {
   "cell_type": "code",
   "execution_count": null,
   "metadata": {},
   "outputs": [],
   "source": [
    "# Inner product\n",
    "\n",
    "v1 = np.mat(np.arange(6))              # this is by default a row vector\n",
    "v2 = np.mat(np.ones(6)).reshape(6, 1)  # we transformed v2 into a column vector\n",
    "print(v1 * v2)"
   ]
  },
  {
   "cell_type": "markdown",
   "metadata": {},
   "source": [
    "#### Other important matrix operations"
   ]
  },
  {
   "cell_type": "code",
   "execution_count": null,
   "metadata": {},
   "outputs": [],
   "source": [
    "# Diagonal\n",
    "S = np.mat([[6, 9, 34], [-5, 6, 7], [33, 10, -9]])\n",
    "S, S.diagonal()"
   ]
  },
  {
   "cell_type": "code",
   "execution_count": null,
   "metadata": {},
   "outputs": [],
   "source": [
    "# Transpose\n",
    "S.T"
   ]
  },
  {
   "cell_type": "code",
   "execution_count": null,
   "metadata": {},
   "outputs": [],
   "source": [
    "# Determinant\n",
    "np.linalg.det(S)"
   ]
  },
  {
   "cell_type": "code",
   "execution_count": null,
   "metadata": {},
   "outputs": [],
   "source": [
    "# Trace\n",
    "S.trace()"
   ]
  },
  {
   "cell_type": "code",
   "execution_count": null,
   "metadata": {},
   "outputs": [],
   "source": [
    "# Inverse\n",
    "S.I"
   ]
  },
  {
   "cell_type": "code",
   "execution_count": null,
   "metadata": {},
   "outputs": [],
   "source": [
    "S.I * S"
   ]
  },
  {
   "cell_type": "code",
   "execution_count": null,
   "metadata": {},
   "outputs": [],
   "source": [
    "# Eigenvalues and eigenvectors\n",
    "\n",
    "eigen_values, eigen_vecs = np.linalg.eig(S)\n",
    "eigen_values, eigen_vecs "
   ]
  },
  {
   "cell_type": "code",
   "execution_count": null,
   "metadata": {},
   "outputs": [],
   "source": [
    "# TO DO: write a function multmat that accepts two numpy arrays a1 and a2 and check if they have compatible\n",
    "# shapes to perform matrix multiplication. If true, it returns the resulting matrix; else, it slices the\n",
    "# correct matrix in order to perform the multiplication\n",
    "# YOUR CODE HERE\n",
    "\n",
    "def multmat(a1, a2):\n",
    "    "
   ]
  },
  {
   "cell_type": "markdown",
   "metadata": {},
   "source": [
    "### Array data processing\n",
    "Every numpy array comes equipped with very nice data processing operations"
   ]
  },
  {
   "cell_type": "code",
   "execution_count": null,
   "metadata": {},
   "outputs": [],
   "source": [
    "ages = np.array([37, 34, 27, 39, 43, 34, 33, 26, 31, 26, 28, 42, 33, 32, 39, 33])"
   ]
  },
  {
   "cell_type": "code",
   "execution_count": null,
   "metadata": {},
   "outputs": [],
   "source": [
    "ages.sum()"
   ]
  },
  {
   "cell_type": "code",
   "execution_count": null,
   "metadata": {},
   "outputs": [],
   "source": [
    "ages.cumsum()  # cumulative sum"
   ]
  },
  {
   "cell_type": "code",
   "execution_count": null,
   "metadata": {},
   "outputs": [],
   "source": [
    "ages.prod()   # product"
   ]
  },
  {
   "cell_type": "code",
   "execution_count": null,
   "metadata": {},
   "outputs": [],
   "source": [
    "ages.cumprod()  # cumulative product"
   ]
  },
  {
   "cell_type": "code",
   "execution_count": null,
   "metadata": {},
   "outputs": [],
   "source": [
    "ages2 = ages.copy()\n",
    "ages2.sort()         # sorting in-place\n",
    "ages2"
   ]
  },
  {
   "cell_type": "code",
   "execution_count": null,
   "metadata": {},
   "outputs": [],
   "source": [
    "ages.mean()"
   ]
  },
  {
   "cell_type": "code",
   "execution_count": null,
   "metadata": {},
   "outputs": [],
   "source": [
    "np.median(ages)  # arrays have no median method"
   ]
  },
  {
   "cell_type": "code",
   "execution_count": null,
   "metadata": {},
   "outputs": [],
   "source": [
    "ages.max(), ages.argmax()    # argmax gives the index of the maximum number"
   ]
  },
  {
   "cell_type": "code",
   "execution_count": null,
   "metadata": {},
   "outputs": [],
   "source": [
    "ages.min(), ages.argmin()"
   ]
  },
  {
   "cell_type": "code",
   "execution_count": null,
   "metadata": {},
   "outputs": [],
   "source": [
    "ages.std()"
   ]
  },
  {
   "cell_type": "markdown",
   "metadata": {},
   "source": [
    "## NumPy Random\n",
    "This is a very useful library to sample numbers from random distributions"
   ]
  },
  {
   "cell_type": "code",
   "execution_count": null,
   "metadata": {},
   "outputs": [],
   "source": [
    "np.random.seed(77)  # set the seed"
   ]
  },
  {
   "cell_type": "code",
   "execution_count": null,
   "metadata": {},
   "outputs": [],
   "source": [
    "# Random number between 0 and 1, uniform distribution\n",
    "np.random.rand(3, 4)"
   ]
  },
  {
   "cell_type": "code",
   "execution_count": null,
   "metadata": {},
   "outputs": [],
   "source": [
    "# Random ints, sampled from uniform distibution\n",
    "\n",
    "np.random.randint(1, 6, 10)  # low, high, size"
   ]
  },
  {
   "cell_type": "code",
   "execution_count": null,
   "metadata": {},
   "outputs": [],
   "source": [
    "# Binomial distribution\n",
    "\n",
    "np.random.binomial(n=20, p=0.3, size=40)"
   ]
  },
  {
   "cell_type": "code",
   "execution_count": null,
   "metadata": {},
   "outputs": [],
   "source": [
    "# Poisson\n",
    "\n",
    "np.random.poisson(lam=2, size=40)"
   ]
  },
  {
   "cell_type": "code",
   "execution_count": null,
   "metadata": {},
   "outputs": [],
   "source": [
    "# Normal\n",
    "\n",
    "np.random.normal(loc=1, scale=1.5, size=30)  # mean and standard deviation"
   ]
  },
  {
   "cell_type": "markdown",
   "metadata": {},
   "source": [
    "## Linear regression and polynomial fit\n",
    "\n",
    "We can also perform linear regession with `numpy.polyfit()`.  \n",
    "For more, see [this](https://docs.scipy.org/doc/numpy-1.14.0/reference/generated/numpy.polyfit.html)"
   ]
  },
  {
   "cell_type": "code",
   "execution_count": null,
   "metadata": {},
   "outputs": [],
   "source": [
    "x = np.array([-8,-2,3,4,5,6])\n",
    "y = x * 2\n",
    "\n",
    "fit_deg1 = np.polyfit(x, y, 1)\n",
    "fit_deg1                         # Polynomial coefficients"
   ]
  },
  {
   "cell_type": "code",
   "execution_count": null,
   "metadata": {},
   "outputs": [],
   "source": [
    "fit_deg2 = np.polyfit(x, y, 2)\n",
    "fit_deg2"
   ]
  },
  {
   "cell_type": "code",
   "execution_count": null,
   "metadata": {},
   "outputs": [],
   "source": [
    "fit_deg3 = np.polyfit(x, y, 3)\n",
    "fit_deg3"
   ]
  }
 ],
 "metadata": {
  "kernelspec": {
   "display_name": "bigdiveconda",
   "language": "python",
   "name": "anaconda3-5.1.0"
  },
  "language_info": {
   "codemirror_mode": {
    "name": "ipython",
    "version": 3
   },
   "file_extension": ".py",
   "mimetype": "text/x-python",
   "name": "python",
   "nbconvert_exporter": "python",
   "pygments_lexer": "ipython3",
   "version": "3.6.4"
  }
 },
 "nbformat": 4,
 "nbformat_minor": 2
}
