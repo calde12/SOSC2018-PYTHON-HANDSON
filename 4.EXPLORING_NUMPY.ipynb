{
 "cells": [
  {
   "cell_type": "markdown",
   "metadata": {},
   "source": [
    "<img align=\"right\" width=\"200\" height=\"200\" src=\"ovalmoney-logo-green.png\">\n",
    "# A very hurried course in Python\n",
    "#### By Stefano Calderan, Data Scientist @ Oval Money\n",
    "\n",
    "  \n",
    "- [NumPy](#NumPy)\n",
    "    - [Why using NumPy](#Why-NumPy?)\n",
    "    - [The arrays](#NumPy-arrays)\n",
    "        - [Create arrays from sequences](#NumPy-arrays-from-sequences)\n",
    "        - [Create arrays from `numpy` functions](#NumPy-arrays-from-generating-functions)\n",
    "    - [Indexing and slicing](#Indexing-and-slicing)\n",
    "        - [Fancy ways of indexing](#Fancy-indexing)\n",
    "    - [Operations with arrays](#Array-operations)\n",
    "    - [Linear algebra](#Linear-algebra)\n",
    "    - [Processing data inside arrays](#Array-data-processing)"
   ]
  },
  {
   "cell_type": "markdown",
   "metadata": {},
   "source": [
    "## NumPy"
   ]
  },
  {
   "cell_type": "code",
   "execution_count": 2,
   "metadata": {},
   "outputs": [],
   "source": [
    "import numpy as np        # Standard abbreviation for numpy"
   ]
  },
  {
   "cell_type": "markdown",
   "metadata": {},
   "source": [
    "### Why NumPy?\n",
    "\n",
    "- It's free\n",
    "- It is a package that provides **_high-performance_ vector, matrix and higher-dimensional data structures** (as tensors). *High performance* means that computations are VERY fast, because it is  implemented in C and Fortran and calculations are vectorized, i.e. they're formulated with vectors and matrices\n",
    "- It provides all what is needed to deal with **linear algebric operations** (matrixes, polynomial fits, ...)\n",
    "- Everybody uses it\n",
    "\n",
    "### NumPy arrays\n",
    "\n",
    "The arrays are the basic data structures of `numpy`. Every array supports by default a series of main **mathematical and statistical operations implemented as methods**.  \n",
    "Let's see how to build them.  \n",
    "\n",
    "#### NumPy arrays from sequences\n",
    "We can build them by starting from sequences (lists, sets or tuples)"
   ]
  },
  {
   "cell_type": "code",
   "execution_count": 3,
   "metadata": {},
   "outputs": [
    {
     "name": "stdout",
     "output_type": "stream",
     "text": [
      "(3,)\n"
     ]
    }
   ],
   "source": [
    "# 1-Dimensional arrays\n",
    "\n",
    "a1 = np.array([1, 2, 3])\n",
    "print(a1.shape)            # .shape is an attribute of every array"
   ]
  },
  {
   "cell_type": "code",
   "execution_count": 4,
   "metadata": {},
   "outputs": [
    {
     "name": "stdout",
     "output_type": "stream",
     "text": [
      "column:\n",
      " [[1]\n",
      " [2]\n",
      " [3]]\n",
      "row: [[1 2 3]]\n"
     ]
    }
   ],
   "source": [
    "# a1 is neither a column or a row vector. TO transfrorm it into a column or row vector, you\n",
    "# have to use the .reshape() method\n",
    "\n",
    "a_column = a1.reshape(3, 1)           # reshape return a new vector\n",
    "print('column:\\n', a_column)\n",
    "a_row = a1.reshape(1, 3)\n",
    "print('row:', a_row)"
   ]
  },
  {
   "cell_type": "code",
   "execution_count": 5,
   "metadata": {},
   "outputs": [
    {
     "name": "stdout",
     "output_type": "stream",
     "text": [
      "[[1 2 3]\n",
      " [4 5 6]\n",
      " [7 8 9]]\n",
      "(3, 3)\n",
      "9\n"
     ]
    }
   ],
   "source": [
    "# 2-Dimensional arrays (Matrixes)\n",
    "\n",
    "M1 = np.array([[1, 2, 3], [4, 5, 6], [7, 8, 9]])\n",
    "\n",
    "print(M1)\n",
    "print(M1.shape)\n",
    "print(M1.size)"
   ]
  },
  {
   "cell_type": "code",
   "execution_count": 6,
   "metadata": {},
   "outputs": [
    {
     "name": "stdout",
     "output_type": "stream",
     "text": [
      "[[1. 2. 3.]\n",
      " [4. 5. 6.]\n",
      " [7. 8. 9.]] float64\n"
     ]
    },
    {
     "ename": "ValueError",
     "evalue": "invalid literal for int() with base 10: 'pippo'",
     "output_type": "error",
     "traceback": [
      "\u001b[0;31m---------------------------------------------------------------------------\u001b[0m",
      "\u001b[0;31mValueError\u001b[0m                                Traceback (most recent call last)",
      "\u001b[0;32m<ipython-input-6-c7de33fa79ff>\u001b[0m in \u001b[0;36m<module>\u001b[0;34m()\u001b[0m\n\u001b[1;32m      5\u001b[0m \u001b[0;34m\u001b[0m\u001b[0m\n\u001b[1;32m      6\u001b[0m \u001b[0;31m# if we try to assing a diffent type to an array, we get an error\u001b[0m\u001b[0;34m\u001b[0m\u001b[0;34m\u001b[0m\u001b[0m\n\u001b[0;32m----> 7\u001b[0;31m \u001b[0ma1\u001b[0m\u001b[0;34m[\u001b[0m\u001b[0;36m0\u001b[0m\u001b[0;34m]\u001b[0m \u001b[0;34m=\u001b[0m \u001b[0;34m'pippo'\u001b[0m\u001b[0;34m\u001b[0m\u001b[0m\n\u001b[0m",
      "\u001b[0;31mValueError\u001b[0m: invalid literal for int() with base 10: 'pippo'"
     ]
    }
   ],
   "source": [
    "# We can specify the type of data inside the array\n",
    "\n",
    "M2 = np.array([[1, 2, 3], [4, 5, 6], [7, 8, 9]], dtype=float)   # use the dtype argument to specify the type\n",
    "print(M2, M2.dtype)                                             # dtype is also an attribute\n",
    "\n",
    "# if we try to assing a diffent type to an array, we get an error\n",
    "a1[0] = 'pippo'"
   ]
  },
  {
   "cell_type": "markdown",
   "metadata": {},
   "source": [
    "#### NumPy arrays from generating functions\n",
    "Here we see some useful functions provided by `numpy`"
   ]
  },
  {
   "cell_type": "code",
   "execution_count": 7,
   "metadata": {},
   "outputs": [
    {
     "data": {
      "text/plain": [
       "array([ 2,  5,  8, 11, 14, 17])"
      ]
     },
     "execution_count": 7,
     "metadata": {},
     "output_type": "execute_result"
    }
   ],
   "source": [
    "# range array\n",
    "a = np.arange(2, 20, 3)  # start, stop, step\n",
    "a"
   ]
  },
  {
   "cell_type": "code",
   "execution_count": 8,
   "metadata": {},
   "outputs": [
    {
     "name": "stdout",
     "output_type": "stream",
     "text": [
      "[ 0.          2.22222222  4.44444444  6.66666667  8.88888889 11.11111111\n",
      " 13.33333333 15.55555556 17.77777778 20.        ]\n",
      "[  1.           3.16227766  10.          31.6227766  100.        ]\n"
     ]
    }
   ],
   "source": [
    "# linspace and logspace arrays\n",
    "# they divide linearly or in a log-fashion the space contained between start and stop\n",
    "\n",
    "lin = np.linspace(0, 20, 10)  # start, stop, number of instances\n",
    "print(lin)\n",
    "\n",
    "log = np.logspace(0, 2, 5, base=10)\n",
    "print(log)"
   ]
  },
  {
   "cell_type": "code",
   "execution_count": 9,
   "metadata": {},
   "outputs": [
    {
     "name": "stdout",
     "output_type": "stream",
     "text": [
      "[0. 0. 0. 0. 0.] \n",
      "\n",
      "[[0. 0. 0.]\n",
      " [0. 0. 0.]\n",
      " [0. 0. 0.]] \n",
      "\n",
      "[[0. 0. 0.]\n",
      " [0. 0. 0.]] \n",
      "\n",
      "[[1. 1.]\n",
      " [1. 1.]]\n"
     ]
    }
   ],
   "source": [
    "# zeros and ones\n",
    "\n",
    "z_vector = np.zeros(5)\n",
    "z_matrix = np.zeros((3, 3))\n",
    "z_matrix_from_vector = np.zeros(6).reshape(2, 3)\n",
    "\n",
    "ones = np.ones((2, 2))\n",
    "\n",
    "print(z_vector, '\\n')\n",
    "print(z_matrix, '\\n')\n",
    "print(z_matrix_from_vector, '\\n')\n",
    "print(ones)"
   ]
  },
  {
   "cell_type": "code",
   "execution_count": 10,
   "metadata": {},
   "outputs": [
    {
     "name": "stdout",
     "output_type": "stream",
     "text": [
      "[[1. 0. 0. 0. 0.]\n",
      " [0. 1. 0. 0. 0.]\n",
      " [0. 0. 1. 0. 0.]\n",
      " [0. 0. 0. 1. 0.]\n",
      " [0. 0. 0. 0. 1.]] \n",
      "\n",
      "[[1 0 0 0]\n",
      " [0 2 0 0]\n",
      " [0 0 3 0]\n",
      " [0 0 0 4]] \n",
      "\n",
      "[[0 1 0 0]\n",
      " [0 0 2 0]\n",
      " [0 0 0 3]\n",
      " [0 0 0 0]] \n",
      "\n"
     ]
    }
   ],
   "source": [
    "# Diagonal matrixes\n",
    "\n",
    "iden_matrix = np.identity(5)\n",
    "diag_matrix = np.diag([1, 2, 3, 4])\n",
    "diag_offset = np.diag([1, 2, 3], k=1)     # k indicates the offset from the main diagonal\n",
    "\n",
    "print(iden_matrix, '\\n')\n",
    "print(diag_matrix, '\\n')\n",
    "print(diag_offset, '\\n')"
   ]
  },
  {
   "cell_type": "markdown",
   "metadata": {},
   "source": [
    "## Indexing and slicing\n",
    "`numpy` arrays support basic indexing and slicing, plus new fancy ways of doing it"
   ]
  },
  {
   "cell_type": "code",
   "execution_count": 11,
   "metadata": {},
   "outputs": [
    {
     "name": "stdout",
     "output_type": "stream",
     "text": [
      "[0.  0.5 1.  1.5 2.  2.5] \n",
      "\n",
      "1.5 \n",
      "\n",
      "[0.5 1. ] \n",
      "\n",
      "[0. 1. 2.]\n"
     ]
    }
   ],
   "source": [
    "# 1-dimensional arrays\n",
    "\n",
    "a = np.arange(0, 3, 0.5)\n",
    "\n",
    "print(a, '\\n')\n",
    "print(a[3], '\\n')\n",
    "print(a[1:3], '\\n')\n",
    "print(a[::2])"
   ]
  },
  {
   "cell_type": "code",
   "execution_count": 12,
   "metadata": {},
   "outputs": [
    {
     "name": "stdout",
     "output_type": "stream",
     "text": [
      "[[0 1 2]\n",
      " [3 4 5]\n",
      " [6 7 8]]\n"
     ]
    }
   ],
   "source": [
    "# 2-dimensional arrays\n",
    "\n",
    "M = np.arange(0, 9).reshape(3, 3)\n",
    "print(M)"
   ]
  },
  {
   "cell_type": "markdown",
   "metadata": {},
   "source": [
    "For multidimensional arrays, the indexing is double: the first index refer to the **row** (first dimension, or axis 0), while the second refers to the **column** (second dimension, or axis 1) "
   ]
  },
  {
   "cell_type": "code",
   "execution_count": 15,
   "metadata": {},
   "outputs": [
    {
     "name": "stdout",
     "output_type": "stream",
     "text": [
      "[[0 1 2]\n",
      " [3 4 5]\n",
      " [6 7 8]] \n",
      "\n",
      "1 \n",
      "\n",
      "[3 4 5] \n",
      "\n",
      "[2 5 8] \n",
      "\n",
      "[1 4] \n",
      "\n"
     ]
    }
   ],
   "source": [
    "print(M, '\\n')\n",
    "print( M[0, 1], '\\n')     # single element at row 0, column 1\n",
    "print( M[1, :], '\\n')     # all the second row\n",
    "print( M[:, 2], '\\n')     # all the third column\n",
    "print( M[:2, 1], '\\n')    # thirst 2 rows, second column"
   ]
  },
  {
   "cell_type": "code",
   "execution_count": 17,
   "metadata": {},
   "outputs": [
    {
     "name": "stdout",
     "output_type": "stream",
     "text": [
      "[[0 1 2]\n",
      " [3 4 5]\n",
      " [6 7 8]] \n",
      "\n",
      "[[3 4]\n",
      " [6 7]]\n"
     ]
    }
   ],
   "source": [
    "# TO DO: starting from the M matrix defined above, create the matrix subM that corresponds to the square submatrix\n",
    "# in the left bottom corner (with elements 3,4,6,7). Use slicing\n",
    "# YOUR CODE HERE\n",
    "\n",
    "\n",
    "subM = M[1:, :2]\n",
    "print(M, '\\n')\n",
    "print(subM)"
   ]
  },
  {
   "cell_type": "markdown",
   "metadata": {},
   "source": [
    "### Fancy indexing\n",
    "`numpy` arrays support very flexible way of indexing."
   ]
  },
  {
   "cell_type": "code",
   "execution_count": 18,
   "metadata": {},
   "outputs": [
    {
     "name": "stdout",
     "output_type": "stream",
     "text": [
      "[1 2 3 4 5] \n",
      "\n",
      "[3 2 5 4]\n"
     ]
    }
   ],
   "source": [
    "# select indexes in the order you wish!\n",
    "my_indexes = [2, 1, -1, -2]\n",
    "\n",
    "a1 = np.arange(1, 6)\n",
    "print(a1, '\\n')\n",
    "print( a1[my_indexes])"
   ]
  },
  {
   "cell_type": "code",
   "execution_count": 19,
   "metadata": {},
   "outputs": [
    {
     "data": {
      "text/plain": [
       "array([[ 0,  1,  2,  3],\n",
       "       [ 4,  5,  6,  7],\n",
       "       [ 8,  9, 10, 11],\n",
       "       [12, 13, 14, 15]])"
      ]
     },
     "execution_count": 19,
     "metadata": {},
     "output_type": "execute_result"
    }
   ],
   "source": [
    "# you can do it also with multidimensional arrays\n",
    "\n",
    "M = np.arange(0, 16).reshape(4, 4)\n",
    "M"
   ]
  },
  {
   "cell_type": "code",
   "execution_count": 20,
   "metadata": {},
   "outputs": [
    {
     "data": {
      "text/plain": [
       "array([ 4, 11])"
      ]
     },
     "execution_count": 20,
     "metadata": {},
     "output_type": "execute_result"
    }
   ],
   "source": [
    "M[[1, 2], [0, 3]]"
   ]
  },
  {
   "cell_type": "code",
   "execution_count": 21,
   "metadata": {},
   "outputs": [
    {
     "data": {
      "text/plain": [
       "array([[ 4,  6],\n",
       "       [ 8, 10]])"
      ]
     },
     "execution_count": 21,
     "metadata": {},
     "output_type": "execute_result"
    }
   ],
   "source": [
    "M[1:3, [0, 2]]     # take all the lines from 1 to 2, only columns 0 and 2"
   ]
  },
  {
   "cell_type": "code",
   "execution_count": 22,
   "metadata": {},
   "outputs": [
    {
     "data": {
      "text/plain": [
       "array([0, 1, 2, 3, 4])"
      ]
     },
     "execution_count": 22,
     "metadata": {},
     "output_type": "execute_result"
    }
   ],
   "source": [
    "# BOOLEAN INDEXING!\n",
    "# 1-dimensional\n",
    "\n",
    "a = np.arange(9)\n",
    "a[a < 5]                     # take elemnts from a only where the condition applies"
   ]
  },
  {
   "cell_type": "code",
   "execution_count": 23,
   "metadata": {},
   "outputs": [
    {
     "data": {
      "text/plain": [
       "array([0, 1, 2, 3, 4, 6, 8])"
      ]
     },
     "execution_count": 23,
     "metadata": {},
     "output_type": "execute_result"
    }
   ],
   "source": [
    "a[(a < 5) | (a%2 == 0)]      # | is the bitwise or"
   ]
  },
  {
   "cell_type": "code",
   "execution_count": 24,
   "metadata": {},
   "outputs": [
    {
     "data": {
      "text/plain": [
       "array([0, 1, 2, 3, 4, 5, 6, 7, 8, 9])"
      ]
     },
     "execution_count": 24,
     "metadata": {},
     "output_type": "execute_result"
    }
   ],
   "source": [
    "M = np.arange(16).reshape(4, 4)\n",
    "\n",
    "M[M < 10]                          # on multidimensional arrays, boolean indexing returns a 1-dimensional array"
   ]
  },
  {
   "cell_type": "code",
   "execution_count": 25,
   "metadata": {},
   "outputs": [
    {
     "name": "stdout",
     "output_type": "stream",
     "text": [
      "[10. 20. 30. 40. 50.]\n"
     ]
    },
    {
     "data": {
      "text/plain": [
       "(array([1, 3]),)"
      ]
     },
     "execution_count": 25,
     "metadata": {},
     "output_type": "execute_result"
    }
   ],
   "source": [
    "# If you need the INDEXES where the condition applies, and not the elements, use the np.where function\n",
    "\n",
    "a = np.linspace(10, 50, 5)\n",
    "print(a)\n",
    "np.where(a%20 == 0)      # the condition of 'elements divisible by 20' is respected by 20 and 40, at positions 1 and 3"
   ]
  },
  {
   "cell_type": "markdown",
   "metadata": {},
   "source": [
    "### Array operations\n",
    "`numpy` arrays allow a vectorization of operations, meaning that under the hood it applies the operation *at the same time* to the whole array"
   ]
  },
  {
   "cell_type": "code",
   "execution_count": 26,
   "metadata": {},
   "outputs": [
    {
     "name": "stdout",
     "output_type": "stream",
     "text": [
      "[10 20 30 40 50] (5,)\n",
      "[[10 11 12 13 14]\n",
      " [20 21 22 23 24]\n",
      " [30 31 32 33 34]\n",
      " [40 41 42 43 44]\n",
      " [50 51 52 53 54]] (5, 5)\n"
     ]
    }
   ],
   "source": [
    "# We'll use these two arrays for all operations demonstrations\n",
    "\n",
    "v = np.arange(10, 60, 10)\n",
    "M = np.array( [ [i * 10 + j for j  in range(5)] for i in range(1, 6)])\n",
    "\n",
    "print(v, v.shape)\n",
    "print(M, M.shape)"
   ]
  },
  {
   "cell_type": "code",
   "execution_count": 27,
   "metadata": {},
   "outputs": [
    {
     "name": "stdout",
     "output_type": "stream",
     "text": [
      "[11 21 31 41 51] \n",
      "\n",
      "[ 50 100 150 200 250] \n",
      "\n",
      "[[20 21 22 23 24]\n",
      " [30 31 32 33 34]\n",
      " [40 41 42 43 44]\n",
      " [50 51 52 53 54]\n",
      " [60 61 62 63 64]] \n",
      "\n",
      "[[100 110 120 130 140]\n",
      " [200 210 220 230 240]\n",
      " [300 310 320 330 340]\n",
      " [400 410 420 430 440]\n",
      " [500 510 520 530 540]]\n"
     ]
    }
   ],
   "source": [
    "# Scalar operations: the operation is applied to each element\n",
    "\n",
    "print(v + 1, '\\n')\n",
    "print(v * 5, '\\n')\n",
    "print(M + 10, '\\n')\n",
    "print(M * 10)"
   ]
  },
  {
   "cell_type": "markdown",
   "metadata": {},
   "source": [
    "**ELEMENT-WISE ARRAY OPERATIONS**  \n",
    "The operation is applied element by element"
   ]
  },
  {
   "cell_type": "code",
   "execution_count": 28,
   "metadata": {},
   "outputs": [
    {
     "name": "stdout",
     "output_type": "stream",
     "text": [
      "[10 20 30 40 50]\n",
      "[11. 21. 31. 41. 51.]\n",
      "[  0  20  60 120 200]\n"
     ]
    }
   ],
   "source": [
    "# 1-dim array\n",
    "\n",
    "v2 = np.ones(5)\n",
    "print(v)\n",
    "print(v + v2)\n",
    "\n",
    "v3 = np.arange(5)\n",
    "print(v * v3)"
   ]
  },
  {
   "cell_type": "code",
   "execution_count": 29,
   "metadata": {},
   "outputs": [
    {
     "name": "stdout",
     "output_type": "stream",
     "text": [
      "[[10 11 12 13 14]\n",
      " [20 21 22 23 24]\n",
      " [30 31 32 33 34]\n",
      " [40 41 42 43 44]\n",
      " [50 51 52 53 54]]\n",
      "[[ 0  1  2  3  4]\n",
      " [ 5  6  7  8  9]\n",
      " [10 11 12 13 14]\n",
      " [15 16 17 18 19]\n",
      " [20 21 22 23 24]]\n",
      "[[   0   11   24   39   56]\n",
      " [ 100  126  154  184  216]\n",
      " [ 300  341  384  429  476]\n",
      " [ 600  656  714  774  836]\n",
      " [1000 1071 1144 1219 1296]]\n"
     ]
    }
   ],
   "source": [
    "# multi-dim array\n",
    "\n",
    "N = np.arange(25).reshape(5, 5)\n",
    "print(M)\n",
    "print(N)\n",
    "print(M * N)"
   ]
  },
  {
   "cell_type": "markdown",
   "metadata": {},
   "source": [
    "If we multiply arrays with compatible shapes, we get an element-wise multiplication of each row:"
   ]
  },
  {
   "cell_type": "code",
   "execution_count": 30,
   "metadata": {},
   "outputs": [
    {
     "data": {
      "text/plain": [
       "array([[ 100,  220,  360,  520,  700],\n",
       "       [ 200,  420,  660,  920, 1200],\n",
       "       [ 300,  620,  960, 1320, 1700],\n",
       "       [ 400,  820, 1260, 1720, 2200],\n",
       "       [ 500, 1020, 1560, 2120, 2700]])"
      ]
     },
     "execution_count": 30,
     "metadata": {},
     "output_type": "execute_result"
    }
   ],
   "source": [
    "M * v"
   ]
  },
  {
   "cell_type": "markdown",
   "metadata": {},
   "source": [
    "All the operations above are the result of the application of **broadcasting**, an operation that automatically *adjusts* the computation between objects having not the same dimension (tough they must have compatible shapes)\n",
    "<img align=\"centre\" width=\"450\" height=\"500\" src=\"broadcast.png\">\n"
   ]
  },
  {
   "cell_type": "markdown",
   "metadata": {},
   "source": [
    "## Linear algebra\n",
    "Let's now see how to do the basic operations from linear algebra"
   ]
  },
  {
   "cell_type": "code",
   "execution_count": 31,
   "metadata": {},
   "outputs": [
    {
     "name": "stdout",
     "output_type": "stream",
     "text": [
      "[0 1 2 3 4 5] [1. 1. 1. 1. 1. 1.]\n",
      "15.0\n",
      "15.0\n"
     ]
    }
   ],
   "source": [
    "# INNER PRODUCT\n",
    "# Use the function np.dot() or the array method .dot\n",
    "\n",
    "v1 = np.arange(6)\n",
    "v2 = np.ones(6)\n",
    "\n",
    "print(v1, v2)\n",
    "print(np.dot(v1, v2))\n",
    "print(v1.dot(v2))"
   ]
  },
  {
   "cell_type": "code",
   "execution_count": 32,
   "metadata": {},
   "outputs": [
    {
     "name": "stdout",
     "output_type": "stream",
     "text": [
      "(2, 3) (3, 4)\n",
      "[[ 38  41  44  47]\n",
      " [128 140 152 164]] \n",
      " (2, 4)\n"
     ]
    }
   ],
   "source": [
    "# MATRIX PRODUCT (m, n) x (n, p)\n",
    "# Use np.matmul\n",
    "\n",
    "M = np.arange(6).reshape(2, 3)\n",
    "N = np.arange(6, 18).reshape(3, 4)\n",
    "P = np.matmul(M, N)\n",
    "\n",
    "print(M.shape, N.shape)\n",
    "print(P, '\\n', P.shape)"
   ]
  },
  {
   "cell_type": "markdown",
   "metadata": {},
   "source": [
    "The inner product and the matrix multiplication can be done easily if, instead of creating numpy arrays, we create directly numpy matrixes:"
   ]
  },
  {
   "cell_type": "code",
   "execution_count": 33,
   "metadata": {},
   "outputs": [
    {
     "name": "stdout",
     "output_type": "stream",
     "text": [
      "[[ 38  41  44  47]\n",
      " [128 140 152 164]]\n"
     ]
    }
   ],
   "source": [
    "# Matrix product\n",
    "\n",
    "M = np.mat(np.arange(6).reshape(2, 3))\n",
    "N = np.mat(np.arange(6, 18).reshape(3, 4))\n",
    "P = M * N\n",
    "print(P)"
   ]
  },
  {
   "cell_type": "code",
   "execution_count": 34,
   "metadata": {},
   "outputs": [
    {
     "name": "stdout",
     "output_type": "stream",
     "text": [
      "[[15.]]\n"
     ]
    }
   ],
   "source": [
    "# Inner product\n",
    "\n",
    "v1 = np.mat(np.arange(6))              # this is by default a row vector\n",
    "v2 = np.mat(np.ones(6)).reshape(6, 1)  # we transformed v2 into a column vector\n",
    "print(v1 * v2)"
   ]
  },
  {
   "cell_type": "markdown",
   "metadata": {},
   "source": [
    "#### Other important matrix operations"
   ]
  },
  {
   "cell_type": "code",
   "execution_count": 35,
   "metadata": {},
   "outputs": [
    {
     "data": {
      "text/plain": [
       "(matrix([[ 6,  9, 34],\n",
       "         [-5,  6,  7],\n",
       "         [33, 10, -9]]), matrix([[ 6,  6, -9]]))"
      ]
     },
     "execution_count": 35,
     "metadata": {},
     "output_type": "execute_result"
    }
   ],
   "source": [
    "# Diagonal\n",
    "S = np.mat([[6, 9, 34], [-5, 6, 7], [33, 10, -9]])\n",
    "S, S.diagonal()"
   ]
  },
  {
   "cell_type": "code",
   "execution_count": 36,
   "metadata": {},
   "outputs": [
    {
     "data": {
      "text/plain": [
       "matrix([[ 6, -5, 33],\n",
       "        [ 9,  6, 10],\n",
       "        [34,  7, -9]])"
      ]
     },
     "execution_count": 36,
     "metadata": {},
     "output_type": "execute_result"
    }
   ],
   "source": [
    "# Transpose\n",
    "S.T"
   ]
  },
  {
   "cell_type": "code",
   "execution_count": 37,
   "metadata": {},
   "outputs": [
    {
     "data": {
      "text/plain": [
       "-7501.999999999996"
      ]
     },
     "execution_count": 37,
     "metadata": {},
     "output_type": "execute_result"
    }
   ],
   "source": [
    "# Determinant\n",
    "np.linalg.det(S)"
   ]
  },
  {
   "cell_type": "code",
   "execution_count": 38,
   "metadata": {},
   "outputs": [
    {
     "data": {
      "text/plain": [
       "matrix([[3]])"
      ]
     },
     "execution_count": 38,
     "metadata": {},
     "output_type": "execute_result"
    }
   ],
   "source": [
    "# Trace\n",
    "S.trace()"
   ]
  },
  {
   "cell_type": "code",
   "execution_count": 39,
   "metadata": {},
   "outputs": [
    {
     "data": {
      "text/plain": [
       "matrix([[ 0.01652893, -0.05611837,  0.01879499],\n",
       "        [-0.02479339,  0.1567582 ,  0.02825913],\n",
       "        [ 0.03305785, -0.03159158, -0.01079712]])"
      ]
     },
     "execution_count": 39,
     "metadata": {},
     "output_type": "execute_result"
    }
   ],
   "source": [
    "# Inverse\n",
    "S.I"
   ]
  },
  {
   "cell_type": "code",
   "execution_count": 40,
   "metadata": {},
   "outputs": [
    {
     "data": {
      "text/plain": [
       "matrix([[ 1.00000000e+00,  0.00000000e+00,  2.77555756e-17],\n",
       "        [ 6.59194921e-17,  1.00000000e+00, -1.66533454e-16],\n",
       "        [ 0.00000000e+00,  5.55111512e-17,  1.00000000e+00]])"
      ]
     },
     "execution_count": 40,
     "metadata": {},
     "output_type": "execute_result"
    }
   ],
   "source": [
    "S.I * S"
   ]
  },
  {
   "cell_type": "code",
   "execution_count": 41,
   "metadata": {},
   "outputs": [
    {
     "data": {
      "text/plain": [
       "(array([-36.28864061,  33.02968399,   6.25895662]),\n",
       " matrix([[ 0.58791479,  0.78466076, -0.38123903],\n",
       "         [ 0.19928542,  0.01534771,  0.89297386],\n",
       "         [-0.78399077,  0.61973538, -0.23927909]]))"
      ]
     },
     "execution_count": 41,
     "metadata": {},
     "output_type": "execute_result"
    }
   ],
   "source": [
    "# Eigenvalues and eigenvectors\n",
    "\n",
    "eigen_values, eigen_vecs = np.linalg.eig(S)\n",
    "eigen_values, eigen_vecs "
   ]
  },
  {
   "cell_type": "code",
   "execution_count": 42,
   "metadata": {},
   "outputs": [],
   "source": [
    "# TO DO: write a function multmat that accepts two numpy arrays a1 and a2 and check if they have compatible\n",
    "# shapes to perform matrix multiplication. If true, it returns the resulting matrix; else, it slices the\n",
    "# correct matrix in order to perform the multiplication\n",
    "# YOUR CODE HERE\n",
    "\n",
    "def multmat(a1, a2):\n",
    "    a1rows, a1cols = a1.shape\n",
    "    a2rows, a2cols = a2.shape\n",
    "    \n",
    "    if a1cols == a2rows:          # check if a1*a2 is possible\n",
    "        return np.matmul(a1, a2)\n",
    "    elif a2cols == a1rows:        # check if a2*a1 is possible\n",
    "        return np.matmul(a2, a1)\n",
    "    else:\n",
    "        min_rowcol_number = min(a1cols, a2rows)       # otherwise we take the minimum common number between\n",
    "        return np.matmul(a1[:, :min_rowcol_number],   # a1 columns and a2 rows and\n",
    "                        a2[:min_rowcol_number, :])    # we return the matrix multiplication ;) "
   ]
  },
  {
   "cell_type": "code",
   "execution_count": 44,
   "metadata": {},
   "outputs": [
    {
     "data": {
      "text/plain": [
       "array([[ 15,  18,  21],\n",
       "       [ 51,  66,  81],\n",
       "       [ 87, 114, 141],\n",
       "       [123, 162, 201]])"
      ]
     },
     "execution_count": 44,
     "metadata": {},
     "output_type": "execute_result"
    }
   ],
   "source": [
    "# An example to show that the above function works\n",
    "# M1 and M2 are matrixes with incompatible shapes (4,4 and 3,3) but our function returns a value anyway\n",
    "\n",
    "M1 = np.arange(16).reshape(4, 4)\n",
    "M2 = np.arange(9).reshape(3, 3)\n",
    "\n",
    "multmat(M1, M2)"
   ]
  },
  {
   "cell_type": "markdown",
   "metadata": {},
   "source": [
    "### Array data processing\n",
    "Every numpy array comes equipped with very nice data processing operations"
   ]
  },
  {
   "cell_type": "code",
   "execution_count": 45,
   "metadata": {},
   "outputs": [],
   "source": [
    "ages = np.array([37, 34, 27, 39, 43, 34, 33, 26, 31, 26, 28, 42, 33, 32, 39, 33])"
   ]
  },
  {
   "cell_type": "code",
   "execution_count": 46,
   "metadata": {},
   "outputs": [
    {
     "data": {
      "text/plain": [
       "537"
      ]
     },
     "execution_count": 46,
     "metadata": {},
     "output_type": "execute_result"
    }
   ],
   "source": [
    "ages.sum()"
   ]
  },
  {
   "cell_type": "code",
   "execution_count": 47,
   "metadata": {},
   "outputs": [
    {
     "data": {
      "text/plain": [
       "array([ 37,  71,  98, 137, 180, 214, 247, 273, 304, 330, 358, 400, 433,\n",
       "       465, 504, 537])"
      ]
     },
     "execution_count": 47,
     "metadata": {},
     "output_type": "execute_result"
    }
   ],
   "source": [
    "ages.cumsum()  # cumulative sum"
   ]
  },
  {
   "cell_type": "code",
   "execution_count": 48,
   "metadata": {},
   "outputs": [
    {
     "data": {
      "text/plain": [
       "5218580222841458688"
      ]
     },
     "execution_count": 48,
     "metadata": {},
     "output_type": "execute_result"
    }
   ],
   "source": [
    "ages.prod()   # product"
   ]
  },
  {
   "cell_type": "code",
   "execution_count": 49,
   "metadata": {},
   "outputs": [
    {
     "data": {
      "text/plain": [
       "array([                  37,                 1258,                33966,\n",
       "                    1324674,             56960982,           1936673388,\n",
       "                63910221804,        1661665766904,       51511638774024,\n",
       "           1339302608124624,    37500473027489472,  1575019867154557824,\n",
       "       -3364576605028246656,  3014013081353416704,  6866045730525941760,\n",
       "        5218580222841458688])"
      ]
     },
     "execution_count": 49,
     "metadata": {},
     "output_type": "execute_result"
    }
   ],
   "source": [
    "ages.cumprod()  # cumulative product"
   ]
  },
  {
   "cell_type": "code",
   "execution_count": 50,
   "metadata": {},
   "outputs": [
    {
     "data": {
      "text/plain": [
       "array([26, 26, 27, 28, 31, 32, 33, 33, 33, 34, 34, 37, 39, 39, 42, 43])"
      ]
     },
     "execution_count": 50,
     "metadata": {},
     "output_type": "execute_result"
    }
   ],
   "source": [
    "ages2 = ages.copy()\n",
    "ages2.sort()         # sorting in-place\n",
    "ages2"
   ]
  },
  {
   "cell_type": "code",
   "execution_count": 51,
   "metadata": {},
   "outputs": [
    {
     "data": {
      "text/plain": [
       "33.5625"
      ]
     },
     "execution_count": 51,
     "metadata": {},
     "output_type": "execute_result"
    }
   ],
   "source": [
    "ages.mean()"
   ]
  },
  {
   "cell_type": "code",
   "execution_count": 52,
   "metadata": {},
   "outputs": [
    {
     "data": {
      "text/plain": [
       "33.0"
      ]
     },
     "execution_count": 52,
     "metadata": {},
     "output_type": "execute_result"
    }
   ],
   "source": [
    "np.median(ages)  # arrays have no median method"
   ]
  },
  {
   "cell_type": "code",
   "execution_count": 53,
   "metadata": {},
   "outputs": [
    {
     "data": {
      "text/plain": [
       "(43, 4)"
      ]
     },
     "execution_count": 53,
     "metadata": {},
     "output_type": "execute_result"
    }
   ],
   "source": [
    "ages.max(), ages.argmax()    # argmax gives the index of the maximum number"
   ]
  },
  {
   "cell_type": "code",
   "execution_count": 54,
   "metadata": {},
   "outputs": [
    {
     "data": {
      "text/plain": [
       "(26, 7)"
      ]
     },
     "execution_count": 54,
     "metadata": {},
     "output_type": "execute_result"
    }
   ],
   "source": [
    "ages.min(), ages.argmin()"
   ]
  },
  {
   "cell_type": "code",
   "execution_count": 55,
   "metadata": {},
   "outputs": [
    {
     "data": {
      "text/plain": [
       "5.183733572435991"
      ]
     },
     "execution_count": 55,
     "metadata": {},
     "output_type": "execute_result"
    }
   ],
   "source": [
    "ages.std()"
   ]
  },
  {
   "cell_type": "markdown",
   "metadata": {},
   "source": [
    "## NumPy Random\n",
    "This is a very useful library to sample numbers from random distributions"
   ]
  },
  {
   "cell_type": "code",
   "execution_count": 56,
   "metadata": {},
   "outputs": [],
   "source": [
    "np.random.seed(77)  # set the seed"
   ]
  },
  {
   "cell_type": "code",
   "execution_count": 57,
   "metadata": {},
   "outputs": [
    {
     "data": {
      "text/plain": [
       "array([[0.91910903, 0.6421956 , 0.75371223, 0.13931457],\n",
       "       [0.08731955, 0.78800206, 0.32615094, 0.54106782],\n",
       "       [0.24023518, 0.54542293, 0.4005545 , 0.71519189]])"
      ]
     },
     "execution_count": 57,
     "metadata": {},
     "output_type": "execute_result"
    }
   ],
   "source": [
    "# Random number between 0 and 1, uniform distribution\n",
    "np.random.rand(3, 4)"
   ]
  },
  {
   "cell_type": "code",
   "execution_count": 58,
   "metadata": {},
   "outputs": [
    {
     "data": {
      "text/plain": [
       "array([3, 4, 4, 2, 4, 2, 2, 5, 1, 5])"
      ]
     },
     "execution_count": 58,
     "metadata": {},
     "output_type": "execute_result"
    }
   ],
   "source": [
    "# Random ints, sampled from uniform distibution\n",
    "\n",
    "np.random.randint(1, 6, 10)  # low, high, size"
   ]
  },
  {
   "cell_type": "code",
   "execution_count": 59,
   "metadata": {},
   "outputs": [
    {
     "data": {
      "text/plain": [
       "array([ 7,  6,  4,  3,  5,  3,  7,  3,  6,  5,  4,  6,  6,  3,  8,  5,  4,\n",
       "        7,  4,  5,  5,  6, 10,  7,  5,  9,  8,  5,  5,  4,  6,  9,  5,  6,\n",
       "        9,  9,  5,  7,  3,  4])"
      ]
     },
     "execution_count": 59,
     "metadata": {},
     "output_type": "execute_result"
    }
   ],
   "source": [
    "# Binomial distribution\n",
    "\n",
    "np.random.binomial(n=20, p=0.3, size=40)"
   ]
  },
  {
   "cell_type": "code",
   "execution_count": 60,
   "metadata": {},
   "outputs": [
    {
     "data": {
      "text/plain": [
       "array([2, 1, 4, 3, 0, 2, 2, 4, 0, 2, 1, 3, 5, 3, 1, 1, 3, 1, 0, 3, 3, 1,\n",
       "       1, 2, 0, 0, 3, 1, 2, 0, 2, 2, 1, 1, 1, 3, 0, 3, 3, 2])"
      ]
     },
     "execution_count": 60,
     "metadata": {},
     "output_type": "execute_result"
    }
   ],
   "source": [
    "# Poisson\n",
    "\n",
    "np.random.poisson(lam=2, size=40)"
   ]
  },
  {
   "cell_type": "code",
   "execution_count": 61,
   "metadata": {},
   "outputs": [
    {
     "data": {
      "text/plain": [
       "array([ 2.84641781, -0.9584082 ,  2.137548  ,  1.21663723,  0.83506757,\n",
       "        2.59641798,  0.41959387, -1.66938496,  1.51752755, -1.2544713 ,\n",
       "       -0.13140551, -0.82536639,  0.27631677, -1.11695162,  3.82526394,\n",
       "       -2.37278564,  0.46965114,  1.29323632,  1.37595121,  2.96117663,\n",
       "        2.30419805,  1.20031734,  1.32297202,  0.79802141,  1.72238502,\n",
       "        0.50590131,  3.96497408,  1.87193701, -3.69740505,  2.19110975])"
      ]
     },
     "execution_count": 61,
     "metadata": {},
     "output_type": "execute_result"
    }
   ],
   "source": [
    "# Gaussian\n",
    "\n",
    "np.random.normal(loc=1, scale=1.5, size=30)  # mean and standard deviation"
   ]
  },
  {
   "cell_type": "code",
   "execution_count": 62,
   "metadata": {},
   "outputs": [
    {
     "data": {
      "text/plain": [
       "array([[ 0.42385748,  0.53991191, -0.07339363, -1.44667588,  1.6399904 ],\n",
       "       [ 0.64215988, -0.11742656,  0.01896072, -0.63819645,  0.31624045],\n",
       "       [ 0.05607358,  0.68218   ,  0.22992071,  0.63908435,  2.95855226],\n",
       "       [-1.76392943,  0.79567636, -0.9577366 , -0.18890951, -0.27755406],\n",
       "       [ 0.51693098,  0.50700864, -0.74811793, -0.80596897,  1.0689386 ]])"
      ]
     },
     "execution_count": 62,
     "metadata": {},
     "output_type": "execute_result"
    }
   ],
   "source": [
    "# Standard Normal\n",
    "\n",
    "np.random.randn(5, 5)"
   ]
  },
  {
   "cell_type": "markdown",
   "metadata": {},
   "source": [
    "## Linear regression and polynomial fit\n",
    "\n",
    "We can also perform linear regession with `numpy.polyfit()`.  \n",
    "For more, see [this](https://docs.scipy.org/doc/numpy-1.14.0/reference/generated/numpy.polyfit.html)"
   ]
  },
  {
   "cell_type": "code",
   "execution_count": 63,
   "metadata": {},
   "outputs": [
    {
     "data": {
      "text/plain": [
       "array([2.00000000e+00, 7.25194643e-16])"
      ]
     },
     "execution_count": 63,
     "metadata": {},
     "output_type": "execute_result"
    }
   ],
   "source": [
    "x = np.array([-8, -2, 3, 4, 5, 6])\n",
    "y = x * 2\n",
    "\n",
    "fit_deg1 = np.polyfit(x, y, 1)\n",
    "fit_deg1                         # Polynomial coefficients"
   ]
  },
  {
   "cell_type": "code",
   "execution_count": 64,
   "metadata": {},
   "outputs": [
    {
     "data": {
      "text/plain": [
       "array([ 3.40835245e-16,  2.00000000e+00, -2.45819666e-15])"
      ]
     },
     "execution_count": 64,
     "metadata": {},
     "output_type": "execute_result"
    }
   ],
   "source": [
    "fit_deg2 = np.polyfit(x, y, 2)\n",
    "fit_deg2"
   ]
  },
  {
   "cell_type": "code",
   "execution_count": 65,
   "metadata": {},
   "outputs": [
    {
     "data": {
      "text/plain": [
       "array([-1.78591839e-17, -1.06832092e-15,  2.00000000e+00,  3.87779304e-14])"
      ]
     },
     "execution_count": 65,
     "metadata": {},
     "output_type": "execute_result"
    }
   ],
   "source": [
    "fit_deg3 = np.polyfit(x, y, 3)\n",
    "fit_deg3"
   ]
  },
  {
   "cell_type": "code",
   "execution_count": null,
   "metadata": {},
   "outputs": [],
   "source": []
  }
 ],
 "metadata": {
  "kernelspec": {
   "display_name": "bigdiveconda",
   "language": "python",
   "name": "anaconda3-5.1.0"
  },
  "language_info": {
   "codemirror_mode": {
    "name": "ipython",
    "version": 3
   },
   "file_extension": ".py",
   "mimetype": "text/x-python",
   "name": "python",
   "nbconvert_exporter": "python",
   "pygments_lexer": "ipython3",
   "version": "3.6.4"
  }
 },
 "nbformat": 4,
 "nbformat_minor": 2
}
