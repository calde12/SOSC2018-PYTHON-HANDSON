{
 "cells": [
  {
   "cell_type": "markdown",
   "metadata": {},
   "source": [
    "<img align=\"right\" width=\"200\" height=\"200\" src=\"ovalmoney-logo-green.png\">\n",
    "# A very hurried course in Python\n",
    "#### By Stefano Calderan, Data Scientist @ Oval Money"
   ]
  },
  {
   "cell_type": "markdown",
   "metadata": {},
   "source": [
    "## NumPy"
   ]
  },
  {
   "cell_type": "code",
   "execution_count": 2,
   "metadata": {},
   "outputs": [],
   "source": [
    "import numpy as np        # Standard abbreviation for numpy"
   ]
  },
  {
   "cell_type": "markdown",
   "metadata": {},
   "source": [
    "### Why NumPy?\n",
    "\n",
    "- It's free\n",
    "- It is a package that provides **_high-performance_ vector, matrix and higher-dimensional data structures** (as tensors). *High performance means that computations are VERY fast, because it is  implemented in C and Fortran and calculations are vectorized, i.e. they're formulated with vectors and matrices\n",
    "- Everybody uses it\n",
    "\n",
    "### NumPy arrays\n",
    "\n",
    "The arrays are the basic data structures of `numpy`. Every array supports by default a series of main **mathematical and statistical operations implemented as methods**.  \n",
    "Let's see how to build them.  \n",
    "\n",
    "#### NumPy arrays from sequences\n",
    "We can build them by starting from sequences (lists, sets or tuples)"
   ]
  },
  {
   "cell_type": "code",
   "execution_count": 5,
   "metadata": {},
   "outputs": [
    {
     "name": "stdout",
     "output_type": "stream",
     "text": [
      "(3,)\n"
     ]
    }
   ],
   "source": [
    "# 1-Dimensional arrays\n",
    "\n",
    "a1 = np.array([1, 2, 3])\n",
    "print(a1.shape)            # .shape is an attribute of every array"
   ]
  },
  {
   "cell_type": "code",
   "execution_count": 10,
   "metadata": {},
   "outputs": [
    {
     "name": "stdout",
     "output_type": "stream",
     "text": [
      "column:\n",
      " [[1]\n",
      " [2]\n",
      " [3]]\n",
      "row: [[1 2 3]]\n"
     ]
    }
   ],
   "source": [
    "# a1 is neither a column or a row vector. TO transfrorm it into a column or row vector, you\n",
    "# have to use the .reshape() method\n",
    "\n",
    "a_column = a1.reshape(3, 1)           # reshape return a new vector\n",
    "print('column:\\n', a_column)\n",
    "a_row = a1.reshape(1, 3)\n",
    "print('row:', a_row)"
   ]
  },
  {
   "cell_type": "code",
   "execution_count": 18,
   "metadata": {},
   "outputs": [
    {
     "name": "stdout",
     "output_type": "stream",
     "text": [
      "[[1 2 3]\n",
      " [4 5 6]\n",
      " [7 8 9]]\n",
      "(3, 3)\n",
      "9\n"
     ]
    }
   ],
   "source": [
    "# 2-Dimensional arrays (Matrixes)\n",
    "\n",
    "M1 = np.array([[1, 2, 3], [4, 5, 6], [7, 8, 9]])\n",
    "\n",
    "print(M1)\n",
    "print(M1.shape)\n",
    "print(M1.size)"
   ]
  },
  {
   "cell_type": "code",
   "execution_count": 20,
   "metadata": {},
   "outputs": [
    {
     "name": "stdout",
     "output_type": "stream",
     "text": [
      "[[1. 2. 3.]\n",
      " [4. 5. 6.]\n",
      " [7. 8. 9.]] float64\n"
     ]
    },
    {
     "ename": "ValueError",
     "evalue": "invalid literal for int() with base 10: 'pippo'",
     "output_type": "error",
     "traceback": [
      "\u001b[0;31m---------------------------------------------------------------------------\u001b[0m",
      "\u001b[0;31mValueError\u001b[0m                                Traceback (most recent call last)",
      "\u001b[0;32m<ipython-input-20-c7de33fa79ff>\u001b[0m in \u001b[0;36m<module>\u001b[0;34m()\u001b[0m\n\u001b[1;32m      5\u001b[0m \u001b[0;34m\u001b[0m\u001b[0m\n\u001b[1;32m      6\u001b[0m \u001b[0;31m# if we try to assing a diffent type to an array, we get an error\u001b[0m\u001b[0;34m\u001b[0m\u001b[0;34m\u001b[0m\u001b[0m\n\u001b[0;32m----> 7\u001b[0;31m \u001b[0ma1\u001b[0m\u001b[0;34m[\u001b[0m\u001b[0;36m0\u001b[0m\u001b[0;34m]\u001b[0m \u001b[0;34m=\u001b[0m \u001b[0;34m'pippo'\u001b[0m\u001b[0;34m\u001b[0m\u001b[0m\n\u001b[0m",
      "\u001b[0;31mValueError\u001b[0m: invalid literal for int() with base 10: 'pippo'"
     ]
    }
   ],
   "source": [
    "# We can specify the type of data inside the array\n",
    "\n",
    "M2 = np.array([[1, 2, 3], [4, 5, 6], [7, 8, 9]], dtype=float)   # use the dtype argument to specify the type\n",
    "print(M2, M2.dtype)                                             # dtype is also an attribute\n",
    "\n",
    "# if we try to assing a diffent type to an array, we get an error\n",
    "a1[0] = 'pippo'"
   ]
  },
  {
   "cell_type": "markdown",
   "metadata": {},
   "source": [
    "#### NumPy arrays from generating functions\n",
    "Here we see some useful functions provided by `numpy`"
   ]
  },
  {
   "cell_type": "code",
   "execution_count": 21,
   "metadata": {},
   "outputs": [
    {
     "data": {
      "text/plain": [
       "array([ 2,  5,  8, 11, 14, 17])"
      ]
     },
     "execution_count": 21,
     "metadata": {},
     "output_type": "execute_result"
    }
   ],
   "source": [
    "# range array\n",
    "a = np.arange(2, 20, 3)  # start, stop, step\n",
    "a"
   ]
  },
  {
   "cell_type": "code",
   "execution_count": 23,
   "metadata": {},
   "outputs": [
    {
     "name": "stdout",
     "output_type": "stream",
     "text": [
      "[ 0.          2.22222222  4.44444444  6.66666667  8.88888889 11.11111111\n",
      " 13.33333333 15.55555556 17.77777778 20.        ]\n",
      "[  1.           3.16227766  10.          31.6227766  100.        ]\n"
     ]
    }
   ],
   "source": [
    "# linspace and logspace arrays\n",
    "# they divide linearly or in a log-fashion the space contained between start and stop\n",
    "\n",
    "lin = np.linspace(0, 20, 10)  # start, stop, number of instances\n",
    "print(lin)\n",
    "\n",
    "log = np.logspace(0, 2, 5, base=10)\n",
    "print(log)"
   ]
  },
  {
   "cell_type": "code",
   "execution_count": 29,
   "metadata": {},
   "outputs": [
    {
     "name": "stdout",
     "output_type": "stream",
     "text": [
      "[0. 0. 0. 0. 0.] \n",
      "\n",
      "[[0. 0. 0.]\n",
      " [0. 0. 0.]\n",
      " [0. 0. 0.]] \n",
      "\n",
      "[[0. 0. 0.]\n",
      " [0. 0. 0.]] \n",
      "\n",
      "[[1. 1.]\n",
      " [1. 1.]]\n"
     ]
    }
   ],
   "source": [
    "# zeros and ones\n",
    "\n",
    "z_vector = np.zeros(5)\n",
    "z_matrix = np.zeros((3, 3))\n",
    "z_matrix_from_vector = np.zeros(6).reshape(2, 3)\n",
    "\n",
    "ones = np.ones((2, 2))\n",
    "\n",
    "print(z_vector, '\\n')\n",
    "print(z_matrix, '\\n')\n",
    "print(z_matrix_from_vector, '\\n')\n",
    "print(ones)"
   ]
  },
  {
   "cell_type": "code",
   "execution_count": 30,
   "metadata": {},
   "outputs": [
    {
     "name": "stdout",
     "output_type": "stream",
     "text": [
      "[[1. 0. 0. 0. 0.]\n",
      " [0. 1. 0. 0. 0.]\n",
      " [0. 0. 1. 0. 0.]\n",
      " [0. 0. 0. 1. 0.]\n",
      " [0. 0. 0. 0. 1.]] \n",
      "\n",
      "[[1 0 0 0]\n",
      " [0 2 0 0]\n",
      " [0 0 3 0]\n",
      " [0 0 0 4]] \n",
      "\n",
      "[[0 1 0 0]\n",
      " [0 0 2 0]\n",
      " [0 0 0 3]\n",
      " [0 0 0 0]] \n",
      "\n"
     ]
    }
   ],
   "source": [
    "# Diagonal matrixes\n",
    "\n",
    "iden_matrix = np.identity(5)\n",
    "diag_matrix = np.diag([1, 2, 3, 4])\n",
    "diag_offset = np.diag([1, 2, 3], k=1)     # k indicates the offset from the main diagonal\n",
    "\n",
    "print(iden_matrix, '\\n')\n",
    "print(diag_matrix, '\\n')\n",
    "print(diag_offset, '\\n')"
   ]
  },
  {
   "cell_type": "markdown",
   "metadata": {},
   "source": [
    "## Indexing and slicing\n",
    "`numpy` arrays support basic indexing and slicing, plus new fancy ways of doing it"
   ]
  },
  {
   "cell_type": "code",
   "execution_count": 35,
   "metadata": {},
   "outputs": [
    {
     "name": "stdout",
     "output_type": "stream",
     "text": [
      "[0.  0.5 1.  1.5 2.  2.5] \n",
      "\n",
      "1.5 \n",
      "\n",
      "[0.5 1. ] \n",
      "\n",
      "[0. 1. 2.]\n"
     ]
    }
   ],
   "source": [
    "# 1-dimensional arrays\n",
    "\n",
    "a = np.arange(0, 3, 0.5)\n",
    "\n",
    "print(a, '\\n')\n",
    "print(a[3], '\\n')\n",
    "print(a[1:3], '\\n')\n",
    "print(a[::2])"
   ]
  },
  {
   "cell_type": "code",
   "execution_count": 38,
   "metadata": {},
   "outputs": [
    {
     "name": "stdout",
     "output_type": "stream",
     "text": [
      "[[0 1 2]\n",
      " [3 4 5]\n",
      " [6 7 8]]\n"
     ]
    }
   ],
   "source": [
    "# 2-dimensional arrays\n",
    "\n",
    "M = np.arange(0, 9).reshape(3, 3)\n",
    "print(M)"
   ]
  },
  {
   "cell_type": "markdown",
   "metadata": {},
   "source": [
    "For multidimensional arrays, the indexing is double: the first index refer to the **row** (first dimension, or axis 0), while the second refers to the **column** (second dimension, or axis 1) "
   ]
  },
  {
   "cell_type": "code",
   "execution_count": 39,
   "metadata": {},
   "outputs": [
    {
     "name": "stdout",
     "output_type": "stream",
     "text": [
      "1 \n",
      "\n",
      "[3 4 5] \n",
      "\n",
      "[2 5 8] \n",
      "\n",
      "[1 4] \n",
      "\n"
     ]
    }
   ],
   "source": [
    "print( M[0, 1], '\\n')\n",
    "print( M[1, :], '\\n')     # all the second row\n",
    "print( M[:, 2], '\\n')     # all the third column\n",
    "print( M[:2, 1], '\\n')    # thirst 2 rows, second column"
   ]
  },
  {
   "cell_type": "code",
   "execution_count": 40,
   "metadata": {},
   "outputs": [],
   "source": [
    "# TO DO: starting from the M matrix defined above, create the matrix subM that corresponds to the square submatrix\n",
    "# in the left bottom corner (with elements 3,4,6,7). Use slicing\n",
    "# YOUR CODE HERE\n",
    "\n",
    "\n"
   ]
  },
  {
   "cell_type": "markdown",
   "metadata": {},
   "source": [
    "### Fancy indexing\n",
    "`numpy` arrays support very flexible way of indexing."
   ]
  },
  {
   "cell_type": "code",
   "execution_count": 44,
   "metadata": {},
   "outputs": [
    {
     "name": "stdout",
     "output_type": "stream",
     "text": [
      "[1 2 3 4 5] \n",
      "\n",
      "[3 2 5 4]\n"
     ]
    }
   ],
   "source": [
    "# select indexes in the order you wish!\n",
    "my_indexes = [2, 1, -1, -2]\n",
    "\n",
    "a1 = np.arange(1, 6)\n",
    "print(a1, '\\n')\n",
    "print( a1[my_indexes])"
   ]
  },
  {
   "cell_type": "code",
   "execution_count": 55,
   "metadata": {},
   "outputs": [
    {
     "data": {
      "text/plain": [
       "array([[ 0,  1,  2,  3],\n",
       "       [ 4,  5,  6,  7],\n",
       "       [ 8,  9, 10, 11],\n",
       "       [12, 13, 14, 15]])"
      ]
     },
     "execution_count": 55,
     "metadata": {},
     "output_type": "execute_result"
    }
   ],
   "source": [
    "# you can do it also with multidimensional arrays\n",
    "\n",
    "M = np.arange(0, 16).reshape(4, 4)\n",
    "M"
   ]
  },
  {
   "cell_type": "code",
   "execution_count": 58,
   "metadata": {},
   "outputs": [
    {
     "data": {
      "text/plain": [
       "array([ 4, 11])"
      ]
     },
     "execution_count": 58,
     "metadata": {},
     "output_type": "execute_result"
    }
   ],
   "source": [
    "M[[1, 2], [0, 3]]"
   ]
  },
  {
   "cell_type": "code",
   "execution_count": 57,
   "metadata": {},
   "outputs": [
    {
     "data": {
      "text/plain": [
       "array([[ 4,  6],\n",
       "       [ 8, 10]])"
      ]
     },
     "execution_count": 57,
     "metadata": {},
     "output_type": "execute_result"
    }
   ],
   "source": [
    "M[1:3, [0, 2]]     # take all the lines from 1 to 2, only columns 0 and 2"
   ]
  },
  {
   "cell_type": "code",
   "execution_count": 59,
   "metadata": {},
   "outputs": [
    {
     "data": {
      "text/plain": [
       "array([0, 1, 2, 3, 4])"
      ]
     },
     "execution_count": 59,
     "metadata": {},
     "output_type": "execute_result"
    }
   ],
   "source": [
    "# BOOLEAN INDEXING!\n",
    "# 1-dimensional\n",
    "\n",
    "a = np.arange(9)\n",
    "a[a < 5]                     # take elemnts from a only where the condition applies"
   ]
  },
  {
   "cell_type": "code",
   "execution_count": 61,
   "metadata": {},
   "outputs": [
    {
     "data": {
      "text/plain": [
       "array([0, 1, 2, 3, 4, 6, 8])"
      ]
     },
     "execution_count": 61,
     "metadata": {},
     "output_type": "execute_result"
    }
   ],
   "source": [
    "a[(a < 5) | (a%2 == 0)]      # | is the bitwise or"
   ]
  },
  {
   "cell_type": "code",
   "execution_count": 74,
   "metadata": {},
   "outputs": [
    {
     "data": {
      "text/plain": [
       "array([0, 1, 2, 3, 4, 5, 6, 7, 8, 9])"
      ]
     },
     "execution_count": 74,
     "metadata": {},
     "output_type": "execute_result"
    }
   ],
   "source": [
    "M = np.arange(16).reshape(4, 4)\n",
    "\n",
    "M[M < 10]                          # on multidimensional arrays, boolean indexing returns a 1-dimensional array"
   ]
  },
  {
   "cell_type": "code",
   "execution_count": 78,
   "metadata": {},
   "outputs": [
    {
     "name": "stdout",
     "output_type": "stream",
     "text": [
      "[10. 20. 30. 40. 50.]\n"
     ]
    },
    {
     "data": {
      "text/plain": [
       "(array([1, 3]),)"
      ]
     },
     "execution_count": 78,
     "metadata": {},
     "output_type": "execute_result"
    }
   ],
   "source": [
    "# If you need the INDEXES where the condition applies, and not the elements, use the np.where function\n",
    "\n",
    "a = np.linspace(10, 50, 5)\n",
    "print(a)\n",
    "np.where(a%20 == 0)"
   ]
  },
  {
   "cell_type": "markdown",
   "metadata": {},
   "source": [
    "### Array operations\n",
    "`numpy` arrays allow a vectorization of operations, meaning that under the hood it applies the operation *at the same time* to the whole array"
   ]
  },
  {
   "cell_type": "code",
   "execution_count": 83,
   "metadata": {},
   "outputs": [
    {
     "name": "stdout",
     "output_type": "stream",
     "text": [
      "[10 20 30 40 50] (5,)\n",
      "[[10 11 12 13 14]\n",
      " [20 21 22 23 24]\n",
      " [30 31 32 33 34]\n",
      " [40 41 42 43 44]\n",
      " [50 51 52 53 54]] (5, 5)\n"
     ]
    }
   ],
   "source": [
    "# We'll use these two arrays for all operations demonstrations\n",
    "\n",
    "v = np.arange(10, 60, 10)\n",
    "M = np.array( [ [i * 10 + j for j  in range(5)] for i in range(1, 6)])\n",
    "\n",
    "print(v, v.shape)\n",
    "print(M, M.shape)"
   ]
  },
  {
   "cell_type": "code",
   "execution_count": 84,
   "metadata": {},
   "outputs": [
    {
     "name": "stdout",
     "output_type": "stream",
     "text": [
      "[11 21 31 41 51] \n",
      "\n",
      "[ 50 100 150 200 250] \n",
      "\n",
      "[[20 21 22 23 24]\n",
      " [30 31 32 33 34]\n",
      " [40 41 42 43 44]\n",
      " [50 51 52 53 54]\n",
      " [60 61 62 63 64]] \n",
      "\n",
      "[[100 110 120 130 140]\n",
      " [200 210 220 230 240]\n",
      " [300 310 320 330 340]\n",
      " [400 410 420 430 440]\n",
      " [500 510 520 530 540]]\n"
     ]
    }
   ],
   "source": [
    "# Scalar operations: the operation is applied to each element\n",
    "\n",
    "print(v + 1, '\\n')\n",
    "print(v * 5, '\\n')\n",
    "print(M + 10, '\\n')\n",
    "print(M * 10)"
   ]
  },
  {
   "cell_type": "markdown",
   "metadata": {},
   "source": [
    "**ELEMENT-WISE ARRAY OPERATIONS**  \n",
    "The operation is applied element by element"
   ]
  },
  {
   "cell_type": "code",
   "execution_count": 88,
   "metadata": {},
   "outputs": [
    {
     "name": "stdout",
     "output_type": "stream",
     "text": [
      "[10 20 30 40 50]\n",
      "[11. 21. 31. 41. 51.]\n",
      "[  0  20  60 120 200]\n"
     ]
    }
   ],
   "source": [
    "# 1-dim array\n",
    "\n",
    "v2 = np.ones(5)\n",
    "print(v)\n",
    "print(v + v2)\n",
    "\n",
    "v3 = np.arange(5)\n",
    "print(v * v3)"
   ]
  },
  {
   "cell_type": "code",
   "execution_count": 89,
   "metadata": {},
   "outputs": [
    {
     "name": "stdout",
     "output_type": "stream",
     "text": [
      "[[10 11 12 13 14]\n",
      " [20 21 22 23 24]\n",
      " [30 31 32 33 34]\n",
      " [40 41 42 43 44]\n",
      " [50 51 52 53 54]]\n",
      "[[ 0  1  2  3  4]\n",
      " [ 5  6  7  8  9]\n",
      " [10 11 12 13 14]\n",
      " [15 16 17 18 19]\n",
      " [20 21 22 23 24]]\n",
      "[[   0   11   24   39   56]\n",
      " [ 100  126  154  184  216]\n",
      " [ 300  341  384  429  476]\n",
      " [ 600  656  714  774  836]\n",
      " [1000 1071 1144 1219 1296]]\n"
     ]
    }
   ],
   "source": [
    "# multi-dim array\n",
    "\n",
    "N = np.arange(25).reshape(5, 5)\n",
    "print(M)\n",
    "print(N)\n",
    "print(M * N)"
   ]
  },
  {
   "cell_type": "markdown",
   "metadata": {},
   "source": [
    "If we multiply arrays with compatible shapes, we get an element-wise multiplication of each row:"
   ]
  },
  {
   "cell_type": "code",
   "execution_count": 90,
   "metadata": {},
   "outputs": [
    {
     "data": {
      "text/plain": [
       "array([[ 100,  220,  360,  520,  700],\n",
       "       [ 200,  420,  660,  920, 1200],\n",
       "       [ 300,  620,  960, 1320, 1700],\n",
       "       [ 400,  820, 1260, 1720, 2200],\n",
       "       [ 500, 1020, 1560, 2120, 2700]])"
      ]
     },
     "execution_count": 90,
     "metadata": {},
     "output_type": "execute_result"
    }
   ],
   "source": [
    "M * v"
   ]
  },
  {
   "cell_type": "markdown",
   "metadata": {},
   "source": [
    "All the operations above are the result of the application of **broadcasting**, an operation that automatically *adjusts* the computation between objects having not the same dimension (tough they must have compatible shapes)\n",
    "<img align=\"centre\" width=\"450\" height=\"500\" src=\"broadcast.png\">\n"
   ]
  },
  {
   "cell_type": "markdown",
   "metadata": {},
   "source": [
    "## Linear algebra\n",
    "Let's now see how to do the basic operations from linear algebra"
   ]
  },
  {
   "cell_type": "code",
   "execution_count": 96,
   "metadata": {},
   "outputs": [
    {
     "name": "stdout",
     "output_type": "stream",
     "text": [
      "[0 1 2 3 4 5] [1. 1. 1. 1. 1. 1.]\n",
      "15.0\n",
      "15.0\n"
     ]
    }
   ],
   "source": [
    "# INNER PRODUCT\n",
    "# Use the function np.dot() or the array method .dot\n",
    "\n",
    "v1 = np.arange(6)\n",
    "v2 = np.ones(6)\n",
    "\n",
    "print(v1, v2)\n",
    "print(np.dot(v1, v2))\n",
    "print(v1.dot(v2))"
   ]
  },
  {
   "cell_type": "code",
   "execution_count": 104,
   "metadata": {},
   "outputs": [
    {
     "name": "stdout",
     "output_type": "stream",
     "text": [
      "(2, 3) (3, 4)\n",
      "[[ 38  41  44  47]\n",
      " [128 140 152 164]] \n",
      " (2, 4)\n"
     ]
    }
   ],
   "source": [
    "# MATRIX PRODUCT (m, n) x (n, p)\n",
    "# Use np.matmul\n",
    "\n",
    "M = np.arange(6).reshape(2, 3)\n",
    "N = np.arange(6, 18).reshape(3, 4)\n",
    "P = np.matmul(M, N)\n",
    "\n",
    "print(M.shape, N.shape)\n",
    "print(P, '\\n', P.shape)"
   ]
  },
  {
   "cell_type": "markdown",
   "metadata": {},
   "source": [
    "The inner product and the matrix multiplication can be done easily if, instead of creating numpy arrays, we create directly numpy matrixes:"
   ]
  },
  {
   "cell_type": "code",
   "execution_count": 105,
   "metadata": {},
   "outputs": [
    {
     "name": "stdout",
     "output_type": "stream",
     "text": [
      "[[ 38  41  44  47]\n",
      " [128 140 152 164]]\n"
     ]
    }
   ],
   "source": [
    "# Matrix product\n",
    "\n",
    "M = np.mat(np.arange(6).reshape(2, 3))\n",
    "N = np.mat(np.arange(6, 18).reshape(3, 4))\n",
    "P = M * N\n",
    "print(P)"
   ]
  },
  {
   "cell_type": "code",
   "execution_count": 108,
   "metadata": {},
   "outputs": [
    {
     "name": "stdout",
     "output_type": "stream",
     "text": [
      "[[15.]]\n"
     ]
    }
   ],
   "source": [
    "# Inner product\n",
    "\n",
    "v1 = np.mat(np.arange(6))              # this is by default a row vector\n",
    "v2 = np.mat(np.ones(6)).reshape(6, 1)  # we transformed v2 into a column vector\n",
    "print(v1 * v2)"
   ]
  },
  {
   "cell_type": "markdown",
   "metadata": {},
   "source": [
    "#### Other important matrix operations"
   ]
  },
  {
   "cell_type": "code",
   "execution_count": 134,
   "metadata": {},
   "outputs": [
    {
     "data": {
      "text/plain": [
       "(matrix([[ 6,  9, 34],\n",
       "         [-5,  6,  7],\n",
       "         [33, 10, -9]]), matrix([[ 6,  6, -9]]))"
      ]
     },
     "execution_count": 134,
     "metadata": {},
     "output_type": "execute_result"
    }
   ],
   "source": [
    "# Diagonal\n",
    "S = np.mat([[6, 9, 34], [-5, 6, 7], [33, 10, -9]])\n",
    "S, S.diagonal()"
   ]
  },
  {
   "cell_type": "code",
   "execution_count": 135,
   "metadata": {},
   "outputs": [
    {
     "data": {
      "text/plain": [
       "matrix([[ 6, -5, 33],\n",
       "        [ 9,  6, 10],\n",
       "        [34,  7, -9]])"
      ]
     },
     "execution_count": 135,
     "metadata": {},
     "output_type": "execute_result"
    }
   ],
   "source": [
    "# Transpose\n",
    "S.T"
   ]
  },
  {
   "cell_type": "code",
   "execution_count": 136,
   "metadata": {},
   "outputs": [
    {
     "data": {
      "text/plain": [
       "-7501.999999999996"
      ]
     },
     "execution_count": 136,
     "metadata": {},
     "output_type": "execute_result"
    }
   ],
   "source": [
    "# Determinant\n",
    "np.linalg.det(S)"
   ]
  },
  {
   "cell_type": "code",
   "execution_count": 144,
   "metadata": {},
   "outputs": [
    {
     "data": {
      "text/plain": [
       "matrix([[3]])"
      ]
     },
     "execution_count": 144,
     "metadata": {},
     "output_type": "execute_result"
    }
   ],
   "source": [
    "# Trace\n",
    "S.trace()"
   ]
  },
  {
   "cell_type": "code",
   "execution_count": 143,
   "metadata": {},
   "outputs": [
    {
     "data": {
      "text/plain": [
       "matrix([[3]])"
      ]
     },
     "execution_count": 143,
     "metadata": {},
     "output_type": "execute_result"
    }
   ],
   "source": [
    "# Inverse\n",
    "S.I"
   ]
  },
  {
   "cell_type": "code",
   "execution_count": 138,
   "metadata": {},
   "outputs": [
    {
     "data": {
      "text/plain": [
       "matrix([[ 1.00000000e+00,  0.00000000e+00,  2.77555756e-17],\n",
       "        [ 6.59194921e-17,  1.00000000e+00, -1.66533454e-16],\n",
       "        [ 0.00000000e+00,  5.55111512e-17,  1.00000000e+00]])"
      ]
     },
     "execution_count": 138,
     "metadata": {},
     "output_type": "execute_result"
    }
   ],
   "source": [
    "S.I * S"
   ]
  },
  {
   "cell_type": "code",
   "execution_count": 141,
   "metadata": {},
   "outputs": [
    {
     "data": {
      "text/plain": [
       "(array([-36.28864061,  33.02968399,   6.25895662]),\n",
       " matrix([[ 0.58791479,  0.78466076, -0.38123903],\n",
       "         [ 0.19928542,  0.01534771,  0.89297386],\n",
       "         [-0.78399077,  0.61973538, -0.23927909]]))"
      ]
     },
     "execution_count": 141,
     "metadata": {},
     "output_type": "execute_result"
    }
   ],
   "source": [
    "# Eigenvalues and eigenvectors\n",
    "\n",
    "eigen_values, eigen_vecs = np.linalg.eig(S)\n",
    "eigen_values, eigen_vecs "
   ]
  },
  {
   "cell_type": "code",
   "execution_count": 142,
   "metadata": {},
   "outputs": [
    {
     "data": {
      "text/plain": [
       "matrix([[-19.65925846, -24.08844527,  41.83165311]])"
      ]
     },
     "execution_count": 142,
     "metadata": {},
     "output_type": "execute_result"
    }
   ],
   "source": [
    "# TO DO: write a function multmat that accepts two numpy arrays a1 and a2 and check if they have compatible\n",
    "# shapes to perform matrix multiplication. If true, it returns the resulting matrix; else, it slices the\n",
    "# correct matrix in order to perform the multiplication\n",
    "# YOUR CODE HERE\n",
    "\n",
    "def multmat(a1, a2):\n",
    "    "
   ]
  },
  {
   "cell_type": "markdown",
   "metadata": {},
   "source": [
    "### Array data processing\n",
    "Every numpy array comes equipped with very nice data processing operations"
   ]
  },
  {
   "cell_type": "code",
   "execution_count": 152,
   "metadata": {},
   "outputs": [],
   "source": [
    "ages = np.array([37, 34, 27, 39, 43, 34, 33, 26, 31, 26, 28, 42, 33, 32, 39, 33])"
   ]
  },
  {
   "cell_type": "code",
   "execution_count": 153,
   "metadata": {},
   "outputs": [
    {
     "data": {
      "text/plain": [
       "537"
      ]
     },
     "execution_count": 153,
     "metadata": {},
     "output_type": "execute_result"
    }
   ],
   "source": [
    "ages.sum()"
   ]
  },
  {
   "cell_type": "code",
   "execution_count": 154,
   "metadata": {},
   "outputs": [
    {
     "data": {
      "text/plain": [
       "array([ 37,  71,  98, 137, 180, 214, 247, 273, 304, 330, 358, 400, 433,\n",
       "       465, 504, 537])"
      ]
     },
     "execution_count": 154,
     "metadata": {},
     "output_type": "execute_result"
    }
   ],
   "source": [
    "ages.cumsum()  # cumulative sum"
   ]
  },
  {
   "cell_type": "code",
   "execution_count": 155,
   "metadata": {},
   "outputs": [
    {
     "data": {
      "text/plain": [
       "5218580222841458688"
      ]
     },
     "execution_count": 155,
     "metadata": {},
     "output_type": "execute_result"
    }
   ],
   "source": [
    "ages.prod()   # product"
   ]
  },
  {
   "cell_type": "code",
   "execution_count": 156,
   "metadata": {},
   "outputs": [
    {
     "data": {
      "text/plain": [
       "array([                  37,                 1258,                33966,\n",
       "                    1324674,             56960982,           1936673388,\n",
       "                63910221804,        1661665766904,       51511638774024,\n",
       "           1339302608124624,    37500473027489472,  1575019867154557824,\n",
       "       -3364576605028246656,  3014013081353416704,  6866045730525941760,\n",
       "        5218580222841458688])"
      ]
     },
     "execution_count": 156,
     "metadata": {},
     "output_type": "execute_result"
    }
   ],
   "source": [
    "ages.cumprod()  # cumulative product"
   ]
  },
  {
   "cell_type": "code",
   "execution_count": 159,
   "metadata": {},
   "outputs": [
    {
     "data": {
      "text/plain": [
       "array([26, 26, 27, 28, 31, 32, 33, 33, 33, 34, 34, 37, 39, 39, 42, 43])"
      ]
     },
     "execution_count": 159,
     "metadata": {},
     "output_type": "execute_result"
    }
   ],
   "source": [
    "ages2 = ages.copy()\n",
    "ages2.sort()         # sorting in-place\n",
    "ages2"
   ]
  },
  {
   "cell_type": "code",
   "execution_count": 160,
   "metadata": {},
   "outputs": [
    {
     "data": {
      "text/plain": [
       "33.5625"
      ]
     },
     "execution_count": 160,
     "metadata": {},
     "output_type": "execute_result"
    }
   ],
   "source": [
    "ages.mean()"
   ]
  },
  {
   "cell_type": "code",
   "execution_count": 162,
   "metadata": {},
   "outputs": [
    {
     "data": {
      "text/plain": [
       "33.0"
      ]
     },
     "execution_count": 162,
     "metadata": {},
     "output_type": "execute_result"
    }
   ],
   "source": [
    "np.median(ages)  # arrays have no median method"
   ]
  },
  {
   "cell_type": "code",
   "execution_count": 164,
   "metadata": {},
   "outputs": [
    {
     "data": {
      "text/plain": [
       "(43, 4)"
      ]
     },
     "execution_count": 164,
     "metadata": {},
     "output_type": "execute_result"
    }
   ],
   "source": [
    "ages.max(), ages.argmax()    # argmax gives the index of the maximum number"
   ]
  },
  {
   "cell_type": "code",
   "execution_count": 165,
   "metadata": {},
   "outputs": [
    {
     "data": {
      "text/plain": [
       "(26, 7)"
      ]
     },
     "execution_count": 165,
     "metadata": {},
     "output_type": "execute_result"
    }
   ],
   "source": [
    "ages.min(), ages.argmin()"
   ]
  },
  {
   "cell_type": "code",
   "execution_count": 166,
   "metadata": {},
   "outputs": [
    {
     "data": {
      "text/plain": [
       "5.183733572435991"
      ]
     },
     "execution_count": 166,
     "metadata": {},
     "output_type": "execute_result"
    }
   ],
   "source": [
    "ages.std()"
   ]
  },
  {
   "cell_type": "markdown",
   "metadata": {},
   "source": [
    "## NumPY Random\n",
    "This is a very useful library to sample numbers from random distributions"
   ]
  },
  {
   "cell_type": "code",
   "execution_count": null,
   "metadata": {},
   "outputs": [],
   "source": []
  }
 ],
 "metadata": {
  "kernelspec": {
   "display_name": "bigdiveconda",
   "language": "python",
   "name": "anaconda3-5.1.0"
  },
  "language_info": {
   "codemirror_mode": {
    "name": "ipython",
    "version": 3
   },
   "file_extension": ".py",
   "mimetype": "text/x-python",
   "name": "python",
   "nbconvert_exporter": "python",
   "pygments_lexer": "ipython3",
   "version": "3.6.4"
  }
 },
 "nbformat": 4,
 "nbformat_minor": 2
}
