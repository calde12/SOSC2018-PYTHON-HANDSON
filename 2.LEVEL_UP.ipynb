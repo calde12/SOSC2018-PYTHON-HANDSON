{
 "cells": [
  {
   "cell_type": "markdown",
   "metadata": {},
   "source": [
    "<img align=\"right\" width=\"200\" height=\"200\" src=\"ovalmoney-logo-green.png\">\n",
    "# A very hurried course in Python\n",
    "#### By Stefano Calderan, Data Scientist @ Oval Money\n",
    "  \n",
    "- [Function definition](#Functions)\n",
    "    - [lambda functions](#lambda-functions)\n",
    "- [Exceptions](#Exceptions)\n",
    "- [Comprehensions](#List,-set-and-dictionary-comprehensions)\n",
    "- [Built-in_functions](#Some-useful-bult-in-functions)\n",
    "- [Advanced operations with strings](#More-on-strings)\n",
    "- [Reading files](#Reading-a-file)"
   ]
  },
  {
   "cell_type": "markdown",
   "metadata": {},
   "source": [
    "## Functions\n",
    "\n",
    "We saw together how to write some basic code. But it's very inconvenient to always move around block of codes in your scripts. Writing **functions** is an efficient way to avoid repetition in your code.  \n",
    "Basically you wrap code inside a nice parcel and call it on need.  \n",
    "Here's the basic structure:\n",
    "\n",
    "`def function_name(arg1, arg2, arg3, ...):\n",
    "    <block of code>\n",
    "    return <function_output>`\n",
    "    \n",
    "**YOU DON'T HAVE TO SPECIFY THE DATA TYPES OF THE ARGUMENTS! PYTHON WILL DO THAT FOR YOU, BUT THE CODE IN THE BODY OF THE FUNCTION MUST BE CONSISTENT WITH THE PROVIDED DATA TYPES**"
   ]
  },
  {
   "cell_type": "code",
   "execution_count": 1,
   "metadata": {},
   "outputs": [
    {
     "name": "stdout",
     "output_type": "stream",
     "text": [
      "I weight 74 kilos\n"
     ]
    }
   ],
   "source": [
    "# A function may not return anything\n",
    "\n",
    "def display_weight(gender):\n",
    "    if gender == 'male':\n",
    "        print(\"I weight 74 kilos\")\n",
    "    else:\n",
    "        print(\"You're very rude, sir\")\n",
    "        \n",
    "my_gender = \"male\"\n",
    "weight = display_weight(\"male\")        # since this function returns nothing, we expect weight to be None"
   ]
  },
  {
   "cell_type": "code",
   "execution_count": 2,
   "metadata": {},
   "outputs": [
    {
     "data": {
      "text/plain": [
       "NoneType"
      ]
     },
     "execution_count": 2,
     "metadata": {},
     "output_type": "execute_result"
    }
   ],
   "source": [
    "type(weight)"
   ]
  },
  {
   "cell_type": "code",
   "execution_count": 3,
   "metadata": {},
   "outputs": [
    {
     "data": {
      "text/plain": [
       "45"
      ]
     },
     "execution_count": 3,
     "metadata": {},
     "output_type": "execute_result"
    }
   ],
   "source": [
    "# A function may not accept arguments\n",
    "\n",
    "def no_args():\n",
    "    result = 0\n",
    "    for i in range(10):\n",
    "        result = result + i\n",
    "    return result\n",
    "\n",
    "no_args()"
   ]
  },
  {
   "cell_type": "code",
   "execution_count": 4,
   "metadata": {},
   "outputs": [
    {
     "name": "stdout",
     "output_type": "stream",
     "text": [
      "1000\n",
      "100\n"
     ]
    }
   ],
   "source": [
    "# A function may accept multiple arguments, and one or more of them can have DEFAULT values\n",
    "\n",
    "def power(base, exp=2):       # Here we assign to argument exp the default value 2 by the = operator\n",
    "    return base**exp\n",
    "\n",
    "print(power(10, 3))\n",
    "print(power(10))"
   ]
  },
  {
   "cell_type": "code",
   "execution_count": 5,
   "metadata": {},
   "outputs": [
    {
     "name": "stdout",
     "output_type": "stream",
     "text": [
      "-1 1 <class 'int'>\n",
      "(-1, 1) <class 'tuple'>\n"
     ]
    }
   ],
   "source": [
    "# A function may return more then one result (technically, it returns a tuple)\n",
    "\n",
    "def double_difference(n1, n2):\n",
    "    d1 = n1 - n2\n",
    "    d2 = n2 - n1\n",
    "    return d1, d2\n",
    "\n",
    "d1, d2 = double_difference(8, 9)\n",
    "print(d1, d2, type(d1))\n",
    "\n",
    "d = double_difference(8, 9)\n",
    "print(d, type(d))"
   ]
  },
  {
   "cell_type": "code",
   "execution_count": 7,
   "metadata": {},
   "outputs": [
    {
     "data": {
      "text/plain": [
       "2.533333333333333"
      ]
     },
     "execution_count": 7,
     "metadata": {},
     "output_type": "execute_result"
    }
   ],
   "source": [
    "# TO DO: write a function called mean that receives a list of numbers as input argument and returns the average\n",
    "# of the number inside the list. Then call it providing the given some_numbers list\n",
    "# HINT: there is a bult-in function sum() that accepts a list and returns the sum of the elements inside ;)\n",
    "\n",
    "some_numbers = [1, 3, 1.5, 2, 2.7, 5]\n",
    "\n",
    "# YOUR CODE HERE\n",
    "\n",
    "def mean(numbers):\n",
    "    result = sum(numbers)/ len(numbers)\n",
    "    return result\n",
    "\n",
    "mean(some_numbers)"
   ]
  },
  {
   "cell_type": "markdown",
   "metadata": {},
   "source": [
    "### `lambda` functions\n",
    "\n",
    "`lambda` functions are very useful inline function consisting of a single expression, that you can **write on a single line**; this expression is evaluated when the function is called.  \n",
    "The syntax to create a lambda function is `lambda [parameters]: expression`"
   ]
  },
  {
   "cell_type": "code",
   "execution_count": 8,
   "metadata": {},
   "outputs": [
    {
     "data": {
      "text/plain": [
       "10"
      ]
     },
     "execution_count": 8,
     "metadata": {},
     "output_type": "execute_result"
    }
   ],
   "source": [
    "double = lambda n: n*2\n",
    "\n",
    "double(5)"
   ]
  },
  {
   "cell_type": "code",
   "execution_count": 9,
   "metadata": {},
   "outputs": [
    {
     "data": {
      "text/plain": [
       "78"
      ]
     },
     "execution_count": 9,
     "metadata": {},
     "output_type": "execute_result"
    }
   ],
   "source": [
    "#An example of a nice use of lambda\n",
    "\n",
    "def my_statistics(measure, numbers):\n",
    "    if measure == 'mean':\n",
    "        statistic = lambda numb_list: sum(numb_list) / len(numb_list)\n",
    "    elif measure == 'max':\n",
    "        statistic = lambda numb_list: max(numb_list)    # max() is a bult-in function, we'll see that later ;)\n",
    "    return statistic(numbers)\n",
    "\n",
    "my_statistics('max', [1, 6, 4, 5, 78, 2])"
   ]
  },
  {
   "cell_type": "markdown",
   "metadata": {},
   "source": [
    "## Exceptions\n",
    "\n",
    "Almost always your code will have to handle with unexpected values or data types; this gives rise to *exceptions*.  \n",
    "It's more of a thing for a programmer than for a physicist, but it's useful to know they exist.  \n",
    "To learn more about exceptions, here's a brief exposure on how to handle errors and exceptions (more info [here]( https://docs.python.org/3/tutorial/errors.html))\n",
    "\n",
    "You can read about built-in exceptions [here](#https://docs.python.org/3/library/exceptions.html)"
   ]
  },
  {
   "cell_type": "code",
   "execution_count": 10,
   "metadata": {},
   "outputs": [
    {
     "name": "stdout",
     "output_type": "stream",
     "text": [
      "Error!\n"
     ]
    }
   ],
   "source": [
    "some_list = ['a', 'b']\n",
    "\n",
    "try: \n",
    "    print(some_list[2])\n",
    "except:\n",
    "    print('Error!')"
   ]
  },
  {
   "cell_type": "code",
   "execution_count": 11,
   "metadata": {},
   "outputs": [
    {
     "name": "stdout",
     "output_type": "stream",
     "text": [
      "You're adding a string to an int!\n"
     ]
    }
   ],
   "source": [
    "# Here's a way to address a particular error\n",
    "\n",
    "try: \n",
    "    \"Ciao\" + 4\n",
    "    \n",
    "except TypeError:\n",
    "    print(\"You're adding a string to an int!\")"
   ]
  },
  {
   "cell_type": "code",
   "execution_count": 12,
   "metadata": {},
   "outputs": [
    {
     "ename": "TypeError",
     "evalue": "must be str, not int",
     "output_type": "error",
     "traceback": [
      "\u001b[0;31m---------------------------------------------------------------------------\u001b[0m",
      "\u001b[0;31mTypeError\u001b[0m                                 Traceback (most recent call last)",
      "\u001b[0;32m<ipython-input-12-8c0442a8b288>\u001b[0m in \u001b[0;36m<module>\u001b[0;34m()\u001b[0m\n\u001b[1;32m      2\u001b[0m \u001b[0;34m\u001b[0m\u001b[0m\n\u001b[1;32m      3\u001b[0m \u001b[0;32mtry\u001b[0m\u001b[0;34m:\u001b[0m\u001b[0;34m\u001b[0m\u001b[0m\n\u001b[0;32m----> 4\u001b[0;31m     \u001b[0;34m\"Ciao\"\u001b[0m \u001b[0;34m+\u001b[0m \u001b[0;36m4\u001b[0m\u001b[0;34m\u001b[0m\u001b[0m\n\u001b[0m\u001b[1;32m      5\u001b[0m \u001b[0;32mexcept\u001b[0m \u001b[0mValueError\u001b[0m\u001b[0;34m:\u001b[0m\u001b[0;34m\u001b[0m\u001b[0m\n\u001b[1;32m      6\u001b[0m     \u001b[0mprint\u001b[0m\u001b[0;34m(\u001b[0m\u001b[0;34m\"You're adding a string to an int!\"\u001b[0m\u001b[0;34m)\u001b[0m\u001b[0;34m\u001b[0m\u001b[0m\n",
      "\u001b[0;31mTypeError\u001b[0m: must be str, not int"
     ]
    }
   ],
   "source": [
    "# But...\n",
    "\n",
    "try: \n",
    "    \"Ciao\" + 4\n",
    "except ValueError:\n",
    "    print(\"You're adding a string to an int!\")"
   ]
  },
  {
   "cell_type": "markdown",
   "metadata": {},
   "source": [
    "## List, set and dictionary comprehensions\n",
    "\n",
    "Comprehensions are a quick and compact way to write a new data structure starting from an existing sequence.  \n",
    "You basically use a `for` loop inside the *constructor brackets* of the structure you want to create."
   ]
  },
  {
   "cell_type": "code",
   "execution_count": 13,
   "metadata": {},
   "outputs": [
    {
     "name": "stdout",
     "output_type": "stream",
     "text": [
      "[1.16, 3.4799999999999995, 11.6, 1739.9999999999998, 348000.0]\n"
     ]
    }
   ],
   "source": [
    "# Old way to build a list. We want to create the dollars list\n",
    "\n",
    "dollars = []                      # initialize empty list\n",
    "\n",
    "euros = [1, 3, 10, 1500, 300000]\n",
    "\n",
    "for e in euros:\n",
    "    d = e * 1.16\n",
    "    dollars.append(d)\n",
    "\n",
    "print(dollars)"
   ]
  },
  {
   "cell_type": "code",
   "execution_count": 14,
   "metadata": {},
   "outputs": [
    {
     "name": "stdout",
     "output_type": "stream",
     "text": [
      "[1.16, 3.4799999999999995, 11.6, 1739.9999999999998, 348000.0]\n"
     ]
    }
   ],
   "source": [
    "# LIST COMPREHENSION\n",
    "\n",
    "euros = [1, 3, 10, 1500, 300000]\n",
    "\n",
    "dollars = [e * 1.16 for e in euros]      # euros is an iterable. The square brackets mean we're creating a list\n",
    "print(dollars)"
   ]
  },
  {
   "cell_type": "code",
   "execution_count": 15,
   "metadata": {},
   "outputs": [
    {
     "name": "stdout",
     "output_type": "stream",
     "text": [
      "['gina', 'Ginola', 'Pinola', 'pina']\n"
     ]
    }
   ],
   "source": [
    "# The comprehension can have an if-else statemente inside!\n",
    "\n",
    "names = ['Gina', 'Gino', 'Pino', 'Pina']\n",
    "\n",
    "female_names = [n.lower() if n[-1] == \"a\" else n + 'la' for n in names]\n",
    "print(female_names)"
   ]
  },
  {
   "cell_type": "code",
   "execution_count": 16,
   "metadata": {},
   "outputs": [
    {
     "name": "stdout",
     "output_type": "stream",
     "text": [
      "{'a', 'n', 'b', 'A'}\n"
     ]
    }
   ],
   "source": [
    "# SET COMPREHENSION\n",
    "fruit = \"bananA\"\n",
    "\n",
    "banana_set = {letter for letter in fruit}     # the curl brackets mean we're creating a set\n",
    "print(banana_set)"
   ]
  },
  {
   "cell_type": "code",
   "execution_count": 17,
   "metadata": {},
   "outputs": [
    {
     "name": "stdout",
     "output_type": "stream",
     "text": [
      "{'dog': 3, 'elephant': 8, 'triceratopus': 12}\n"
     ]
    }
   ],
   "source": [
    "# DICT COMPREHENSION\n",
    "\n",
    "animals = ['dog', 'elephant', 'triceratopus']\n",
    "animals_dict = {w: len(w) for w in animals}    # the curl brackets with key-value pairs separated by : mean\n",
    "                                               # we're creating a dictionary\n",
    "print(animals_dict)"
   ]
  },
  {
   "cell_type": "code",
   "execution_count": 19,
   "metadata": {},
   "outputs": [
    {
     "name": "stdout",
     "output_type": "stream",
     "text": [
      "{'F': 'Feynman', 'M': 'Maxwell', 'P': 'Pascal'}\n"
     ]
    }
   ],
   "source": [
    "# TO DO: starting from the scientists list, create a dictionary which has the first letter of the scientist\n",
    "# names as keys and the full names as values. Use a comprehension!\n",
    "\n",
    "scientists = ['Feynman', 'Maxwell', 'Pascal']\n",
    "\n",
    "# YOUR CODE HERE\n",
    "\n",
    "scientist_dict = {name[0]: name for name in scientists}\n",
    "\n",
    "print(scientist_dict)"
   ]
  },
  {
   "cell_type": "markdown",
   "metadata": {},
   "source": [
    "## Some useful bult-in functions\n",
    "- `sum()`: accepts a sequence as argument and returns the sum of the sequence elements\n",
    "- `round(`*`n`*`,`*`n_digits`*`)`: rounds the number n to the n-th digit\n",
    "- `max()` and `min()`: self-explanatory. They accept multiple arguments or a sortable sequence\n",
    "- `sorted(`*`sequence`*`)`: returns a sorted sequence"
   ]
  },
  {
   "cell_type": "markdown",
   "metadata": {},
   "source": [
    "## More on strings\n",
    "\n",
    "Let's see two operations on strings that can be useful.\n",
    "- **`.split()`**: a useful method that divides (splits) the string into chunks according to the provided *separator*\n",
    "- **`.join(`*`sequence_of_strings`*`)`**: combines together the strings in the sequence argument, by putting between each pair the string on which the method is used\n",
    "- __*formatting*__: modifing strings by embedding changing values"
   ]
  },
  {
   "cell_type": "code",
   "execution_count": 20,
   "metadata": {},
   "outputs": [
    {
     "data": {
      "text/plain": [
       "['Tyger',\n",
       " 'Tyger,',\n",
       " 'burning',\n",
       " 'bright,',\n",
       " 'In',\n",
       " 'the',\n",
       " 'forests',\n",
       " 'of',\n",
       " 'the',\n",
       " 'night']"
      ]
     },
     "execution_count": 20,
     "metadata": {},
     "output_type": "execute_result"
    }
   ],
   "source": [
    "tyger = \"Tyger Tyger, burning bright, In the forests of the night\"\n",
    "tyger_words = tyger.split()                                        # by default split() divides by spaces\n",
    "tyger_words"
   ]
  },
  {
   "cell_type": "code",
   "execution_count": 21,
   "metadata": {},
   "outputs": [
    {
     "name": "stdout",
     "output_type": "stream",
     "text": [
      "Tyger divided every comma: ['Tyger Tyger', ' burning bright', ' In the forests of the night']\n",
      "Tyger divided every 'r': ['Tyge', ' Tyge', ', bu', 'ning b', 'ight, In the fo', 'ests of the night']\n"
     ]
    }
   ],
   "source": [
    "# Other examples of splitting\n",
    "tiger_words2 = tyger.split(',')  \n",
    "tiger_words3 = tyger.split('r')\n",
    "\n",
    "print(\"Tyger divided every comma:\", tiger_words2)\n",
    "print(\"Tyger divided every 'r':\", tiger_words3)"
   ]
  },
  {
   "cell_type": "code",
   "execution_count": 22,
   "metadata": {},
   "outputs": [
    {
     "name": "stdout",
     "output_type": "stream",
     "text": [
      "a) [\"I'm\", 'not', 'a', 'robot']\n",
      "b) I'm not a robot\n",
      "c) I'm-a-robot\n"
     ]
    }
   ],
   "source": [
    "# .join() examples\n",
    "\n",
    "sentence = \"I'm not a robot\".split()\n",
    "print('a)', sentence)\n",
    "\n",
    "recombined_sentence = ' '.join(sentence)    # calling .join on ' ' will put a space between each string\n",
    "print('b)', recombined_sentence)\n",
    "\n",
    "sentence.remove('not')\n",
    "robo_sentence  = '-'.join(sentence)         # calling .join on '-' will put an hyphene between each string\n",
    "print('c)', robo_sentence)"
   ]
  },
  {
   "cell_type": "code",
   "execution_count": null,
   "metadata": {},
   "outputs": [],
   "source": [
    "# formatting examples\n",
    "# After running the cell, complete the tabs and press Enter\n",
    "\n",
    "name = input(\"Your name: \")\n",
    "age = int(input(\"Your age: \"))\n",
    "height = float(input(\"Your height in meters (use a float): \"))"
   ]
  },
  {
   "cell_type": "code",
   "execution_count": null,
   "metadata": {},
   "outputs": [],
   "source": [
    "sent1 = \"Your name is %s\" % name                       # the 's' placeholder is for strings\n",
    "sent2 = \"Your say you are %d years old\"% age           # the 'd' placeholder is for integers\n",
    "sent3 = \"Your height is %.2f, wow!\" % height           # the 'f' placeholder is for floats. Use the .n form to say \n",
    "                                                       # the n decimal digits you want\n",
    "print(sent1)\n",
    "print(sent2)\n",
    "print(sent3)"
   ]
  },
  {
   "cell_type": "markdown",
   "metadata": {},
   "source": [
    "## Reading a file\n",
    "\n",
    "`python` provides very simple way for file reading and writing.  \n",
    "More of it can be found [here](https://docs.python.org/3/tutorial/inputoutput.html#reading-and-writing-files)."
   ]
  },
  {
   "cell_type": "code",
   "execution_count": 23,
   "metadata": {},
   "outputs": [
    {
     "name": "stdout",
     "output_type": "stream",
     "text": [
      "\"The Tyger\" by William Blake\n",
      "\n",
      "Tyger Tyger, burning bright,\n",
      "In the forests of the night;\n",
      "What immortal hand or eye,\n",
      "Could frame thy fearful symmetry?\n",
      "\n",
      "In what distant deeps or skies,\n",
      "Burnt the fire of thine eyes?\n",
      "On what wings dare he aspire?\n",
      "What the hand, dare seize the fire?\n",
      "\n",
      "And what shoulder, & what art,\n",
      "Could twist the sinews of thy heart?\n",
      "And when thy heart began to beat,\n",
      "What dread hand? & what dread feet?\n",
      "\n",
      "What the hammer? what the chain,\n",
      "In what furnace was thy brain?\n",
      "What the anvil? what dread grasp,\n",
      "Dare its deadly terrors clasp!\n",
      "\n",
      "When the stars threw down their spears\n",
      "And water'd heaven with their tears:\n",
      "Did he smile his work to see?\n",
      "Did he who made the Lamb make thee?\n",
      "\n",
      "Tyger Tyger burning bright,\n",
      "In the forests of the night:\n",
      "What immortal hand or eye,\n",
      "Dare frame thy fearful symmetry?\n"
     ]
    }
   ],
   "source": [
    "with open('the_tyger.txt') as tyger_file:  # The with statemnnt automatically closes the file for us when we're done\n",
    "    tyger_content = tyger_file.read()      # save all the content in one variable\n",
    "    \n",
    "print(tyger_content)"
   ]
  },
  {
   "cell_type": "code",
   "execution_count": 24,
   "metadata": {},
   "outputs": [
    {
     "name": "stdout",
     "output_type": "stream",
     "text": [
      "\"The Tyger\" by William Blake\n",
      "\n"
     ]
    }
   ],
   "source": [
    "with open('the_tyger.txt') as tyger_file:\n",
    "    tyger_line = tyger_file.readline()     # read line until newline or end\n",
    "\n",
    "print(tyger_line)"
   ]
  },
  {
   "cell_type": "code",
   "execution_count": 25,
   "metadata": {},
   "outputs": [
    {
     "name": "stdout",
     "output_type": "stream",
     "text": [
      "\"The Tyger\" by William Blake\n",
      "\n",
      "\n",
      "\n",
      "Tyger Tyger, burning bright,\n",
      "\n",
      "In the forests of the night;\n",
      "\n",
      "What immortal hand or eye,\n",
      "\n",
      "Could frame thy fearful symmetry?\n",
      "\n",
      "\n",
      "\n",
      "In what distant deeps or skies,\n",
      "\n",
      "Burnt the fire of thine eyes?\n",
      "\n",
      "On what wings dare he aspire?\n",
      "\n",
      "What the hand, dare seize the fire?\n",
      "\n",
      "\n",
      "\n",
      "And what shoulder, & what art,\n",
      "\n",
      "Could twist the sinews of thy heart?\n",
      "\n",
      "And when thy heart began to beat,\n",
      "\n",
      "What dread hand? & what dread feet?\n",
      "\n",
      "\n",
      "\n",
      "What the hammer? what the chain,\n",
      "\n",
      "In what furnace was thy brain?\n",
      "\n",
      "What the anvil? what dread grasp,\n",
      "\n",
      "Dare its deadly terrors clasp!\n",
      "\n",
      "\n",
      "\n",
      "When the stars threw down their spears\n",
      "\n",
      "And water'd heaven with their tears:\n",
      "\n",
      "Did he smile his work to see?\n",
      "\n",
      "Did he who made the Lamb make thee?\n",
      "\n",
      "\n",
      "\n",
      "Tyger Tyger burning bright,\n",
      "\n",
      "In the forests of the night:\n",
      "\n",
      "What immortal hand or eye,\n",
      "\n",
      "Dare frame thy fearful symmetry?\n"
     ]
    }
   ],
   "source": [
    "with open('the_tyger.txt') as tyger_file:\n",
    "    for line in tyger_file.readlines():    # note the final 's' in the method name :D\n",
    "        print(line)"
   ]
  },
  {
   "cell_type": "code",
   "execution_count": 35,
   "metadata": {},
   "outputs": [],
   "source": [
    "# TO DO: write a function called second_words that wants a text name as input;\n",
    "# then it should read the text and return a list of the SECOND WORD IN EACH LINE\n",
    "# HINT: .split() could be useful ;)\n",
    "# YOUR CODE HERE\n",
    "\n",
    "def second_words(file_name):\n",
    "    with open(file_name) as myfile:\n",
    "        second_words_list = [line.split()[1] for line in myfile.readlines() if line.strip() != '']  #\n",
    "    return second_words_list     \n",
    "\n",
    "# in this solution we use a list comprehension\n",
    "# the .readlines() method allows use to use a for loop that cycles on each line of the file\n",
    "# we add an if statement to check that the line is not empty (strip() method guarantees us that whitespaces are not\n",
    "# counted)\n",
    "# then we call .split() on the line and take the element at position 1, i.e. the secondo"
   ]
  },
  {
   "cell_type": "code",
   "execution_count": 36,
   "metadata": {},
   "outputs": [
    {
     "data": {
      "text/plain": [
       "['Tyger\"',\n",
       " 'Tyger,',\n",
       " 'the',\n",
       " 'immortal',\n",
       " 'frame',\n",
       " 'what',\n",
       " 'the',\n",
       " 'what',\n",
       " 'the',\n",
       " 'what',\n",
       " 'twist',\n",
       " 'when',\n",
       " 'dread',\n",
       " 'the',\n",
       " 'what',\n",
       " 'the',\n",
       " 'its',\n",
       " 'the',\n",
       " \"water'd\",\n",
       " 'he',\n",
       " 'he',\n",
       " 'Tyger',\n",
       " 'the',\n",
       " 'immortal',\n",
       " 'frame']"
      ]
     },
     "execution_count": 36,
     "metadata": {},
     "output_type": "execute_result"
    }
   ],
   "source": [
    "second_words('the_tyger.txt')"
   ]
  },
  {
   "cell_type": "code",
   "execution_count": null,
   "metadata": {},
   "outputs": [],
   "source": []
  }
 ],
 "metadata": {
  "kernelspec": {
   "display_name": "bigdiveconda",
   "language": "python",
   "name": "anaconda3-5.1.0"
  },
  "language_info": {
   "codemirror_mode": {
    "name": "ipython",
    "version": 3
   },
   "file_extension": ".py",
   "mimetype": "text/x-python",
   "name": "python",
   "nbconvert_exporter": "python",
   "pygments_lexer": "ipython3",
   "version": "3.6.4"
  }
 },
 "nbformat": 4,
 "nbformat_minor": 2
}
