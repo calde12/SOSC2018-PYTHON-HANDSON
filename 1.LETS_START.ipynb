{
 "cells": [
  {
   "cell_type": "markdown",
   "metadata": {},
   "source": [
    "<img align=\"right\" width=\"200\" height=\"200\" src=\"ovalmoney-logo-green.png\">\n",
    "# A very hurried course in Python\n",
    "#### By Stefano Calderan, Data Scientist @ Oval Money\n",
    "\n",
    "- [Intro](#Ok-cool,-but-what's-this?)\n",
    "- [Python basics](#Fine!-Let's-do-some-Python)\n",
    "    - [Comments](#Write-a-comment)\n",
    "    - [Importing libraries](#The-import-statement)\n",
    "    - [Variable assignement](#Assigning-a-value-to-a-variable)\n",
    "    - [Data types](#Built-in-data-types)\n",
    "        - [None](#===>-NONETYPE)\n",
    "        - [Integers and float](#===>-INT-AND-FLOAT)\n",
    "        - [Booleans](#===>-BOOL)\n",
    "        - [Strings](#===>-STRINGS)\n",
    "    - [Data structures](#Built-in-data-structures)\n",
    "        - [Lists](#===>-LIST)\n",
    "            - [Common operations with strings and lists](#List-and-string-operations)\n",
    "            - [Unshared operations with strings and lists](#String-and-list-differencies)\n",
    "        - [Tuples](#===>-TUPLES)\n",
    "            - [zip function](#The-zip-function)\n",
    "        - [Dictionaries](#===>-DICTIONARIES)\n",
    "        - [Sets](#===>-SET)\n",
    "    - [Control flow](#CONTROL-FLOW)\n",
    "        - [if statement](#if-statement)\n",
    "        - [while loop](#while-loop)\n",
    "        - [for loop](#for-loop)"
   ]
  },
  {
   "cell_type": "markdown",
   "metadata": {},
   "source": [
    "## Ok cool, but what's this?\n",
    "\n",
    "*This* is a **Jupyter Notebook**. A notebook is an **interactive** document that allows you to *both* write *and* execute `python` code, without the need of using a command line (or shell), a script editor or and IDE (environments that integrate together the two previous tools).  \n",
    "The notebook is written in a language that is easily read by any web browser, like Chrome, FireFox etc. That's why your browser opened itselfed when you executed the 'jupyter notebook' command!\n",
    "  \n",
    "  \n",
    "Every `python` code is written in a portion of the document, called a *cell*. When you *run* a cell, you evaluate it and execute the `python` code inside it. Easy, isn't it? ;)  \n",
    "**How to run a cell?**\n",
    "- *Boring way*: You select the cell with your mouse and then click the `Run` button in the upper part of the document\n",
    "- *Smart way*: Once the cell is selected, just press `SHIFT` + `ENTER`  \n",
    "  \n",
    "**_Caveat_**: altough the cells are well delimited portions, they're not independent! What you write inside one of them affects the whole notebook.  \n",
    "**_Fun fact_**: this is a cell too! A Jupyter Notebook supports many code languages for its cells, and one of these is `Markdown`, a language used to create textual documents. To check that this is a cell, just double click on it!  \n",
    "To revert this cell to the previous format, press `SHIFT` + `ENTER`"
   ]
  },
  {
   "cell_type": "markdown",
   "metadata": {},
   "source": [
    "## Fine! Let's do some Python\n",
    "### Write a comment\n",
    "A comment is a line that will not be executed. You can use comments to make your code more readable by others and/or to take notes. To write a comment, insert the `#` symbol and write your text after it.  \n",
    "```python\n",
    "# This is how a comment looks like in python\n",
    "```\n",
    "### The `import` statement\n",
    "\n",
    "A lot of useful tools are contained inside big packages of code, called **modules**. Like a noob in any RPG, your `python` script (or notebook) doesn't come equipped with all the useful items by default: you have to explicitally invoke them. You do it with the `import` statement, followed by the name of the module.  \n",
    "For instance, let's say we need the `wizard_package` module:  \n",
    "```python\n",
    "import wizard_package\n",
    "```"
   ]
  },
  {
   "cell_type": "code",
   "execution_count": null,
   "metadata": {},
   "outputs": [],
   "source": [
    "# TO DO: run the following cell to import the `math` and `os` modules**\n",
    "\n",
    "import math                    # Ah yes, this is a comment\n",
    "import os                      # =====**** THIS IS A FANCY COMMENT ****====== #\n",
    "from random import randint     # Here we choose a SPECIFIC FUNCTION from a whole module"
   ]
  },
  {
   "cell_type": "markdown",
   "metadata": {},
   "source": [
    "### Assigning a value to a variable\n",
    "\n",
    "The way you create a variable and at the same time assign a value to it, is very straightforward: just write the name you want to give your variable, followed by a `=` and then the value. For instance:\n",
    "\n",
    "```python\n",
    "wizard_age = 199\n",
    "```\n",
    "\n",
    "**To visualize the value of a variable, just use the built-in function `print()`** (a function is a tool that, provided with one or more arguments, does some action. In this case, just printing)\n",
    "\n",
    "```python\n",
    "In  [1]  print(wizard_age)\n",
    "Out [1]  199\n",
    "```\n",
    "\n",
    "You can **print more things at the same time** just by adding more arguments:\n",
    "\n",
    "```python\n",
    "In  [2]  print(wizard_age, wizard_girlfriends)\n",
    "Out [2]  199  0\n",
    "```"
   ]
  },
  {
   "cell_type": "code",
   "execution_count": 1,
   "metadata": {},
   "outputs": [],
   "source": [
    "# TO DO: create a variable named CLASS_STUDENTS and assign to it the number of students in this class\n",
    "# After, print the value of the variable in the cell below this one\n",
    "# YOUR CODE HERE:\n",
    "\n",
    "CLASS_STUDENTS = 20"
   ]
  },
  {
   "cell_type": "code",
   "execution_count": 2,
   "metadata": {},
   "outputs": [
    {
     "name": "stdout",
     "output_type": "stream",
     "text": [
      "20\n"
     ]
    }
   ],
   "source": [
    "# YOUR CODE HERE:\n",
    "\n",
    "print(CLASS_STUDENTS)"
   ]
  },
  {
   "cell_type": "markdown",
   "metadata": {},
   "source": [
    "**_Tips_**: for variable names NEVER use: numbers at the beginnig, blank spaces, this `-` symbol and special characters like !, @, %, $, &\n",
    "### Built-in data types\n",
    "\n",
    "Since you usually have to manage different data types, `python` provides 8 base types that can express (almost) the whole diversity of the data you'll find in your life. If they won't well... bad luck! :D  \n",
    "(Some built-in types are changeable after creation, some are not: we then distinguish them between **immutable** and **mutable**)  \n",
    "  \n",
    "**_Tips_**: The built-in function `type()` returns the data type of the given argument. Use it ;)  \n",
    "\n",
    "#### ===> **NONETYPE**  \n",
    "\n",
    "A very special type: it is the one associated to the `None` object, i.e. a data without a value, a missing data.\n",
    "```python\n",
    "In  [2]  print(type(None))\n",
    "Out [2]  NoneType\n",
    "```\n",
    "\n",
    "#### ===> **INT AND FLOAT**\n",
    "\n",
    "`int` are integers, `float` are floats (wow, that's deep). Every operation with at least one float inside, returns a float; every operation with int returns a int, **except for the division**, which always returns a float.\n",
    "The possible operations are: **sum** `+`, **subtraction** `-`, **multiplication** `*`, **division** `/`, **raise to power** `**`.  \n",
    "An operation can be assigned to a variable, just like a value. Guess what will see when we print this variable? ;)\n",
    "\n",
    "```python\n",
    "wizard_height = (180 * 10 + 6**2 - 9 * 4) / 10\n",
    "print(wizard_height)\n",
    "```  \n",
    "\n",
    "**Nice to know**: int also supports the *modulus* operation `%` which returns the remainder of a division.  \n",
    "```python\n",
    "In  [1]  print(3%2)\n",
    "Out [1]  1\n",
    "``` "
   ]
  },
  {
   "cell_type": "code",
   "execution_count": 3,
   "metadata": {
    "scrolled": true
   },
   "outputs": [
    {
     "name": "stdout",
     "output_type": "stream",
     "text": [
      "10 9.5\n"
     ]
    }
   ],
   "source": [
    "# TO DO: create two variables and assign them to the result of two different operations,\n",
    "# one should return an int and the other a float. Then, print together the values of these 2 variables\n",
    "# YOUR CODE HERE:\n",
    "\n",
    "var_1 = 1 + 3**2\n",
    "var_2 = 10 - 8/2 + 3.5\n",
    "\n",
    "print(var_1, var_2)"
   ]
  },
  {
   "cell_type": "markdown",
   "metadata": {},
   "source": [
    "#### ===> **BOOL**\n",
    "\n",
    "bool are booleans, i.e. data types that can assume either a value of either 1 or 0. Obviously the built-in objects `True` and `False` are booleans, but also the results of any **logical operations** are boolean. Run the following cell to see examples of bools. Yeeeeeeah!!"
   ]
  },
  {
   "cell_type": "code",
   "execution_count": null,
   "metadata": {},
   "outputs": [],
   "source": [
    "print(True)     # True and False are pre-existing in python. Programmers call this way of being 'built-in'\n",
    "print(False)\n",
    "print(not False)     # the negation operator\n",
    "print(10 == 5 * 3)   # == is the equivalence operator, not just one '=' !!!!\n",
    "print(10 != 5 * 3)   # the inequality operator\n",
    "print(10 < 5)        # the less than operation\n",
    "print(10 <= 10)      # the lesser equal operation\n",
    "print(10 > 10)       # the greater than operation\n",
    "print(True and True) # the and operation\n",
    "print(True or False) # the or operation\n",
    "\n",
    "stupid = 10 < 5\n",
    "foolish = not (10 != 6)\n",
    "print('Last example: ', stupid and foolish)"
   ]
  },
  {
   "cell_type": "markdown",
   "metadata": {},
   "source": [
    "#### ===> **STRINGS**\n",
    "\n",
    "The last type of data you could deal with are **strings**. A string is created by enclosing text between two apixes `'` or double apixes `\"` (the last way is preferred).  \n",
    "\n",
    "Strings have a **length**, which is the number of characters they're composed of. You can get it using the `len()` built-in function\n",
    "\n",
    "**_Caveat_**: Any value between apixes is a string, even if the test inside is a number."
   ]
  },
  {
   "cell_type": "code",
   "execution_count": 4,
   "metadata": {},
   "outputs": [
    {
     "name": "stdout",
     "output_type": "stream",
     "text": [
      "<class 'str'> <class 'str'> <class 'str'>\n",
      "4\n"
     ]
    }
   ],
   "source": [
    "# All the following are strings\n",
    "\n",
    "language = \"python\"\n",
    "android_name = \"18\"\n",
    "pi_string = '3.14'\n",
    "\n",
    "print(type(language), type(android_name), type(pi_string))\n",
    "print( len(pi_string) )"
   ]
  },
  {
   "cell_type": "markdown",
   "metadata": {},
   "source": [
    "You may have noticed that when you print the type of a `str` variable, `python` also returns the description _class_.  \n",
    "This is beacuse **string is a class**, i.e. an object more complex than a simple number or boolean. Classes are elements that, after they are constructed, come with a certain number of default properties, called **attributes** and **methods**. Think of a method as an action that the class performs on itself, and then returns something. The methods are accessed to through the syntax:  \n",
    ">*class\\_element*__.__**method_name(\\)**  \n",
    "\n",
    "**_Tips_**: many methods (not all) can be applied in sequence (if the preceding methods return an element of the same class):  \n",
    ">*class\\_element*__.__**method1(\\).method2()** \n",
    "\n",
    "Some useful methods for stings are: **`.upper()`, `.lower()`, `.capitalize()` ,`.title()`**, and **`.strip()`.** Experiment with them ;)  \n",
    "An example:\n",
    "```python\n",
    "In  []  wizard_name = \"Merlin\"\n",
    "        print(wizard_name.upper())\n",
    "Out []  MERLIN\n",
    "```"
   ]
  },
  {
   "cell_type": "code",
   "execution_count": 5,
   "metadata": {},
   "outputs": [
    {
     "name": "stdout",
     "output_type": "stream",
     "text": [
      "this is a bad string\n"
     ]
    }
   ],
   "source": [
    "# TO DO: create a string variable good_string starting from the existing bad_string\n",
    "# you should strip (wink wink!) blank spaces from both ends of bad_string and then lower it all. \n",
    "# Then print good_string\n",
    "\n",
    "bad_string = \" tHis iS a BAd striNG   \"\n",
    "\n",
    "# YOUR CODE HERE\n",
    "good_string = bad_string.strip().lower()\n",
    "\n",
    "print(good_string)"
   ]
  },
  {
   "cell_type": "markdown",
   "metadata": {},
   "source": [
    "### Built-in data structures\n",
    "\n",
    "It's really no good having your variables just wandering off, scattering everywhere. `python` provides bult-in data structures to store your data, according to your specific needs\n",
    "\n",
    "#### ===> **LIST**\n",
    "\n",
    "**Lists** are **mutable** collection of values. You can add values to it, or remove them. *Values can be of different types*.  \n",
    "  \n",
    "You can **create a list** by enclosing your values between two square brackets, each one separated by a comma from the following.  \n",
    "Run the cell below to see the examples. "
   ]
  },
  {
   "cell_type": "code",
   "execution_count": 7,
   "metadata": {},
   "outputs": [],
   "source": [
    "empty = []                                           # this is an empty list\n",
    "only_ints = [1, 10, 999]                             # this has only integers\n",
    "mixed = [0.6, \"string element\", 11, 3.14]            # this has mixed data types\n",
    "list_of_list = [[1,2], [3, 4, 5], [6, 7, 8, 9, 10]]  # every element is a list"
   ]
  },
  {
   "cell_type": "markdown",
   "metadata": {},
   "source": [
    "####  List and string operations\n",
    "\n",
    "Lists and strings have some operations in common.  \n",
    "- **Indexing**: you can accees every element in a list (or string) by the indexing operator, which is a pair of square brackets enclosing an integer number. The integer represent the position of the element in the list (or string). The position is an increasing number that **starts from 0 and grows till the last element**.\n",
    "Indexing can also go backwards, with **decreasing negative numbers**: the last element position is **-1** and so on till the first\n",
    "\n",
    "```python\n",
    "In  [1]  wizard_spells = [\"Accio\", \"Expecto Patronum\", \"Expelliarmus\"]\n",
    "         print(wizard_spells[0], wizard_spells[2])\n",
    "Out [1]  Accio  Expelliarmus\n",
    "\n",
    "In  [2]  middle_spell = wizard_spell[1]\n",
    "         print(middle_spell[4])\n",
    "Out [2]  c\n",
    "```\n",
    "\n",
    "- **Slicing**: a way to access more elements at once, by selecting a portion (or in fact, a slice) of the list or string. The sintax is:\n",
    "\n",
    "```python\n",
    "list_or_string[start_position: end_position: step_size]\n",
    "```\n",
    "\n",
    "(the last argument is not compulsory). Run the cell below for examples."
   ]
  },
  {
   "cell_type": "code",
   "execution_count": 6,
   "metadata": {},
   "outputs": [
    {
     "name": "stdout",
     "output_type": "stream",
     "text": [
      "The numbers more than 2 and less than 6 are [3, 4, 5]\n",
      "The first 3 numbers are [0, 1, 2]\n",
      "The even numbers are [0, 2, 4, 6, 8]\n",
      "The odd numbers are [1, 3, 5, 7, 9]\n",
      "The last 2 numbers are [9, 8]\n"
     ]
    }
   ],
   "source": [
    "first_10_ints = [0, 1, 2, 3, 4, 5, 6, 7, 8, 9]\n",
    "\n",
    "print(\"The numbers more than 2 and less than 6 are\", first_10_ints[3:6])\n",
    "print(\"The first 3 numbers are\", first_10_ints[:3])\n",
    "print(\"The even numbers are\", first_10_ints[0::2])\n",
    "print(\"The odd numbers are\", first_10_ints[1::2])\n",
    "print(\"The last 2 numbers are\", first_10_ints[-1:-3:-1])  # When provided with a negative step size, the slicing is\n",
    "                                                          # done backwards"
   ]
  },
  {
   "cell_type": "markdown",
   "metadata": {},
   "source": [
    "- **Concatenation**: to fuse together two lists (or two strings), just use the `+` symbol\n",
    "\n",
    "```python\n",
    "In  []  list1 = [8, 9, 10]\n",
    "        list2 = [100, 110, 120]\n",
    "        list3 = list1 + list2\n",
    "        print(list3)\n",
    "Out []  [8, 9, 10, 100, 110, 120]\n",
    "```\n",
    "\n",
    "- **Multiplication**: repeats a string or list n times by multipling its contents by an integer *n*. **The repeated elements are concatenated!**\n",
    "\n",
    "```python\n",
    "In  []  prime_numbers = [2, 3] * 3\n",
    "        wizard_clock = ['tic', 'toc'] * 3\n",
    "        wizard_scream = 'A' * 10 + 'H'\n",
    "        print(prime_numbers)\n",
    "        print(wizard_clock)\n",
    "        print(wizard_scream)\n",
    "Out []  [2, 3, 2, 3, 2, 3]\n",
    "        ['tic', 'toc', 'tic', 'toc', 'tic', 'toc']\n",
    "        AAAAAAAAAAH\n",
    "```\n",
    "\n",
    "- **Length**: this is not a real operation, but a bult-in *function* (like `print`) that can be applied to both strings and lists:\n",
    "\n",
    "```python\n",
    "In  []  wizard_clock = ['tic', 'toc'] * 3\n",
    "        wizard_scream = 'A' * 10 + 'H' \n",
    "        print(len(wizard_clock))\n",
    "        print(len(wizard_scream))\n",
    "Out []  6\n",
    "        11\n",
    "```"
   ]
  },
  {
   "cell_type": "code",
   "execution_count": 8,
   "metadata": {},
   "outputs": [
    {
     "name": "stdout",
     "output_type": "stream",
     "text": [
      "True\n"
     ]
    }
   ],
   "source": [
    "# TO DO: create two string variables, name_1 and name_2, as long as you wish\n",
    "# Then create a list name_list containing the upper form of string 1 and the title form of string 2\n",
    "# Then modify name_list by expanding it 20 times (HINT: use multiplication)\n",
    "# Print the length of the list and check that it is equal to 40 by also printing the adequate boolean operation\n",
    "# YOUR CODE HERE\n",
    "\n",
    "name_1 = \"Stefano\"\n",
    "name_2 = \"tirannosaurus rex\"\n",
    "\n",
    "name_list = [name_1.upper(), name_2.title()]\n",
    "name_list = name_list * 20\n",
    "\n",
    "print(len(name_list) == 40)"
   ]
  },
  {
   "cell_type": "code",
   "execution_count": 10,
   "metadata": {},
   "outputs": [
    {
     "name": "stdout",
     "output_type": "stream",
     "text": [
      "Tirannosaurus Rex\n",
      "xeR suruasonnariT\n"
     ]
    }
   ],
   "source": [
    "# TO DO: access the 10th element of name_list from exercise above and assign this value to \n",
    "# a variable (you choose the name)\n",
    "# Print this new variable and also the variable in reverse (HINT: use slicing!)\n",
    "# YOUR CODE HERE\n",
    "\n",
    "\n",
    "\n",
    "element10th = name_list[9]\n",
    "print(element10th)\n",
    "print(element10th[::-1])"
   ]
  },
  {
   "cell_type": "markdown",
   "metadata": {},
   "source": [
    "####  String and list differencies\n",
    "\n",
    "Strings are *immutable* objects, meaning that they cannot be modified once created. Lists instead are *mutable*, so you can add or remove elements from them after they are created. The most useful methods to change lists are:\n",
    "- **`.append()`** and **`.insert()`** to add elements\n",
    "- **`.remove()`** and **`.pop()`** to take out elements"
   ]
  },
  {
   "cell_type": "code",
   "execution_count": 14,
   "metadata": {},
   "outputs": [
    {
     "name": "stdout",
     "output_type": "stream",
     "text": [
      "['You', 'are', 'a', 'wizard']\n",
      "['You', 'are', 'a', 'handsome', 'wizard']\n"
     ]
    }
   ],
   "source": [
    "foo_list = ['You', 'are', 'a']\n",
    "foo_list.append('wizard')      # this adds the element 'wizard' AT THE END of the list\n",
    "print(foo_list)\n",
    "\n",
    "foo_list.insert(3, 'handsome')  # this adds the second argument at index position 3\n",
    "print(foo_list)"
   ]
  },
  {
   "cell_type": "code",
   "execution_count": 15,
   "metadata": {},
   "outputs": [
    {
     "name": "stdout",
     "output_type": "stream",
     "text": [
      "['You', 'are', 'handsome']\n",
      "['You', 'handsome']\n"
     ]
    }
   ],
   "source": [
    "foo_list.remove('a')         # Use remove to take out a SPECIFIC ELEMENT\n",
    "foo_list.remove('wizard')\n",
    "print(foo_list)\n",
    "\n",
    "foo_list.pop(1)              # Use pop to take out elements BY THEIR INDEX\n",
    "print(foo_list)"
   ]
  },
  {
   "cell_type": "markdown",
   "metadata": {},
   "source": [
    "Lists and string can be sorted through the **`sorted()`** bult-in function. If you sort a list, the function returns a list; when you sort a string, the function returns again a list!  \n",
    "By default, the sorting is done in ascending order. To select descending, set the optional parameter `reverse` to **True**"
   ]
  },
  {
   "cell_type": "code",
   "execution_count": 16,
   "metadata": {},
   "outputs": [
    {
     "name": "stdout",
     "output_type": "stream",
     "text": [
      "['d', 'e', 'm', 'o']\n",
      "[1, 3, 8, 75, 98] [98, 75, 8, 3, 1]\n"
     ]
    }
   ],
   "source": [
    "str_1 = \"dome\"\n",
    "chaos = [8, 75, 3, 98, 1]\n",
    "\n",
    "print(sorted(str_1))\n",
    "print( sorted(chaos), sorted(chaos, reverse=True) )"
   ]
  },
  {
   "cell_type": "markdown",
   "metadata": {},
   "source": [
    "#### ===> **TUPLES**\n",
    "\n",
    "A **tuple** is an **immutable** collection of values. Once you create it, you cannot change it. But you can access the values inside it via the **indexing operator**, the double brackets `[]`  \n",
    "  \n",
    "You can **create a tuple** by enclosing your values between two brackets. Run the cell below to see the examples.\n",
    "\n",
    "```python\n",
    "In  [0]  empty = ()                             # this is an empty tuple\n",
    "         wizard_parents = ('Muggle', 'Witch')   # this is not\n",
    "         print(wizard_parents[0])\n",
    "Out [0]  Muggle\n",
    "```\n",
    "**Tuples support indexing and slicing** like lists and strings. Tuples are *immutable* objects"
   ]
  },
  {
   "cell_type": "code",
   "execution_count": 17,
   "metadata": {},
   "outputs": [
    {
     "name": "stdout",
     "output_type": "stream",
     "text": [
      "(8, 3.14) (3.14, True, (8, 3.14))\n",
      "<class 'tuple'> <class 'tuple'>\n"
     ]
    }
   ],
   "source": [
    "pi = 3.14\n",
    "\n",
    "tup1 = (8, pi)            # data types inside a tuple can be different\n",
    "tup2 = (pi, True, tup1)   # you can insert a tuple inside a tuple\n",
    "\n",
    "print(tup1, tup2)\n",
    "print(type(tup1), type(tup2))"
   ]
  },
  {
   "cell_type": "code",
   "execution_count": 18,
   "metadata": {},
   "outputs": [
    {
     "name": "stdout",
     "output_type": "stream",
     "text": [
      "8\n",
      "3.14\n"
     ]
    }
   ],
   "source": [
    "# Elements in a tuple can be accessed by index. \n",
    "\n",
    "print(tup1[0])  # this gives the FIRST element inside tup1\n",
    "print(tup1[1])  # this gives the SECOND element"
   ]
  },
  {
   "cell_type": "markdown",
   "metadata": {},
   "source": [
    "#### **The `zip` function**  \n",
    "The `zip` function is a bult-in function useful to merge together **related** elements from different lists (or any sequence, i.e. any objects that support indexing). **The elements are grouped as a tuple**.  \n",
    "To see how it works, run the cells below ;)"
   ]
  },
  {
   "cell_type": "code",
   "execution_count": 19,
   "metadata": {},
   "outputs": [
    {
     "name": "stdout",
     "output_type": "stream",
     "text": [
      "<zip object at 0x111ba1d88>\n"
     ]
    }
   ],
   "source": [
    "wizard_names = ['Enrico', 'Ronaldo', 'Greta']\n",
    "wizard_ages = [30, 16, 32]\n",
    "wizard_is_overage = [True, False, True]\n",
    "\n",
    "wizard_info = zip(wizard_names, wizard_ages, wizard_is_overage)\n",
    "print(wizard_info)"
   ]
  },
  {
   "cell_type": "code",
   "execution_count": 20,
   "metadata": {},
   "outputs": [
    {
     "name": "stdout",
     "output_type": "stream",
     "text": [
      "[('Enrico', 30, True), ('Ronaldo', 16, False), ('Greta', 32, True)]\n"
     ]
    }
   ],
   "source": [
    "# To save memory, the elements inside zip are not stored all at the same time in the RAM\n",
    "# In order to show them, you have to explicitally transform the zip object in a list.\n",
    "\n",
    "wizard_info = list(zip(wizard_names, wizard_ages, wizard_is_overage))  # We use the 'list' bult-in function to \n",
    "                                                                       # transform the zip object into a list\n",
    "print(wizard_info)"
   ]
  },
  {
   "cell_type": "markdown",
   "metadata": {},
   "source": [
    "#### ===> **DICTIONARIES**\n",
    "\n",
    "The dictionaries are very useful elements. They provide a **_mapping_** between two related elements. A dictionary is composed by pairs of values, called **key-value** pairs. By knowing the key, you can access its corresponding value. A key-value pair is called a dictionary *item*.   \n",
    "**A dictionary is created** by the use of a pair or **curly brackets, `{}`**.  \n",
    "Each element is preceded by the key, followed by **`:`** and then the value. For instance:  \n",
    "\n",
    "```python\n",
    "wizards_empty = {}                                          # this is an empty dictionary\n",
    "wizards_homeland = {\"Harry\": \"England\", \"Enrico\": \"Italy\"}  # this is not\n",
    "```\n",
    "\n",
    "To access a value, use the **`[]`** operator on the dictionary by calling the corresponding key:\n",
    "\n",
    "```python\n",
    "In  [1]  print(wizards_homeland['Harry'])\n",
    "Out [1]  England\n",
    "```\n",
    "*Caveat*: a key can be any data type, but not a data structure!!\n",
    "  \n",
    "**Useful methods**\n",
    "- **`.keys()`**: returns all the keys\n",
    "- **`.values()`**: returns all the values\n",
    "- **`.items()`**: returns all the items\n",
    "\n",
    "**Adding and removing items**\n",
    "- **`.pop(`**`key_value`**`)`**: takes off the pair corresponding to the provided *key_value*  \n",
    "- to add a new item, just do `dict_name[new_key] = new_value`. For instance,\n",
    "\n",
    "```python\n",
    "In  []  a_dict = {}                   # this dict is empty, it has no items\n",
    "        a_dict['pinco'] = 'pallo'     # Assigning new value 'pallo' to new key 'pinco'\n",
    "        print(a_dict)\n",
    "Out []  {'pinco': 'pallo'}\n",
    "```\n",
    "  \n",
    "**Dictionary from list of pairs**  \n",
    "You you have a list containing value pairs, you can use it to create a dictionary throught the built-in function **`dict()`**.\n",
    "\n",
    "```python\n",
    "In  [1]  name_age = [('Harry', 20), ('Enrico', 21), ('Greta', 32)]\n",
    "         name_age_dict = dict(name_age)\n",
    "         print(name_age_dict)\n",
    "Out [2]  {'Harry':20, 'Enrico':21, 'Greta':32}\n",
    "```"
   ]
  },
  {
   "cell_type": "code",
   "execution_count": 21,
   "metadata": {},
   "outputs": [
    {
     "name": "stdout",
     "output_type": "stream",
     "text": [
      "{'Newton': 'gravitation', 'Einstein': 'relativity theory', 'Compton': 'Compton effect'}\n"
     ]
    }
   ],
   "source": [
    "# TO DO: below you have two list of names and scientific discoveries. Create a dict from these lists\n",
    "# where the keys are the name and the discoveries are the values. HINT: use also the zip function!\n",
    "# Then take out the ITALIAN scientist, and print the modified dictionary\n",
    "\n",
    "names = [\"Newton\", \"Einstein\", \"Compton\", \"Avogadro\"]\n",
    "discoveris = [\"gravitation\", \"relativity theory\", \"Compton effect\", \"Avogadro number\"]\n",
    "\n",
    "# YOUR CODE HERE\n",
    "\n",
    "names_n_discoveries = dict(zip(names, discoveris))\n",
    "\n",
    "names_n_discoveries.pop('Avogadro')                  # the pop() method needs a key as argument\n",
    "print(names_n_discoveries)"
   ]
  },
  {
   "cell_type": "code",
   "execution_count": 22,
   "metadata": {},
   "outputs": [
    {
     "name": "stdout",
     "output_type": "stream",
     "text": [
      "{'Newton': 'gravitation', 'Einstein': 'relativity theory', 'Compton': 'Compton effect', 'Doc': 'Time Machine'}\n"
     ]
    }
   ],
   "source": [
    "# TO DO: add to your dict a new item, the pair \"Doc\", \"Time Machine\"\n",
    "# YOUR CODE HERE\n",
    "\n",
    "\n",
    "names_n_discoveries[\"Doc\"] = \"Time Machine\"\n",
    "print(names_n_discoveries)"
   ]
  },
  {
   "cell_type": "markdown",
   "metadata": {},
   "source": [
    "#### ===> SET\n",
    "\n",
    "A **set** is a mutable collection of **unique** values: given a number of values, this object keeps **only the distinct ones**.  \n",
    "To build a set, enclose your values **between curl brackets `{}` and separate them by commas**.  \n",
    "To build an *empty set*, use the bult-in `set()` function:  \n",
    "\n",
    "`empty_set = set()`"
   ]
  },
  {
   "cell_type": "code",
   "execution_count": 23,
   "metadata": {},
   "outputs": [
    {
     "name": "stdout",
     "output_type": "stream",
     "text": [
      "{1, 3, 7}\n"
     ]
    }
   ],
   "source": [
    "simple_set = {1, 1, 3, 3, 3, 7, 7, 7, 7, 1}\n",
    "print(simple_set)"
   ]
  },
  {
   "cell_type": "code",
   "execution_count": 24,
   "metadata": {},
   "outputs": [
    {
     "name": "stdout",
     "output_type": "stream",
     "text": [
      "The list is [1, 2, 2, 3, 3, 3]\n",
      "{1, 2, 3}\n"
     ]
    }
   ],
   "source": [
    "# TO DO: transform a list to a set by passing the list as argument to the set() function\n",
    "# Then print the new set\n",
    "\n",
    "repeated_list = [1] + [2] * 2 + [3] * 3    # Concatenation and multiplication. Rembember this? ;)\n",
    "print(\"The list is\", repeated_list)\n",
    "\n",
    "# YOUR CODE HERE\n",
    "setted = set(repeated_list)\n",
    "\n",
    "print(setted)"
   ]
  },
  {
   "cell_type": "markdown",
   "metadata": {},
   "source": [
    "**Main set operations**  \n",
    "Here we see how to do the main operations with sets: **intersection, union and difference**"
   ]
  },
  {
   "cell_type": "code",
   "execution_count": 25,
   "metadata": {},
   "outputs": [
    {
     "data": {
      "text/plain": [
       "{12, 24, 36}"
      ]
     },
     "execution_count": 25,
     "metadata": {},
     "output_type": "execute_result"
    }
   ],
   "source": [
    "a = {6, 12, 18, 24, 30, 36}   # multiples of 6\n",
    "b = {12, 24, 36, 48, 60}      # multiples of 12\n",
    "\n",
    "# Intersection\n",
    "a & b"
   ]
  },
  {
   "cell_type": "code",
   "execution_count": 26,
   "metadata": {},
   "outputs": [
    {
     "data": {
      "text/plain": [
       "{6, 12, 18, 24, 30, 36, 48, 60}"
      ]
     },
     "execution_count": 26,
     "metadata": {},
     "output_type": "execute_result"
    }
   ],
   "source": [
    "# Union\n",
    "a | b"
   ]
  },
  {
   "cell_type": "code",
   "execution_count": 27,
   "metadata": {},
   "outputs": [
    {
     "data": {
      "text/plain": [
       "{6, 18, 30}"
      ]
     },
     "execution_count": 27,
     "metadata": {},
     "output_type": "execute_result"
    }
   ],
   "source": [
    "# A - B: elements in A not beloning to B\n",
    "a - b"
   ]
  },
  {
   "cell_type": "code",
   "execution_count": 28,
   "metadata": {},
   "outputs": [
    {
     "data": {
      "text/plain": [
       "{48, 60}"
      ]
     },
     "execution_count": 28,
     "metadata": {},
     "output_type": "execute_result"
    }
   ],
   "source": [
    "# B - A: elements in B not beloning to A\n",
    "b - a"
   ]
  },
  {
   "cell_type": "markdown",
   "metadata": {},
   "source": [
    "## CONTROL FLOW\n",
    "\n",
    "Or, in other words, the basic commands to write any program, and tell it what to do. The main flows are **the `if` statement, the `while` loop and the `for` loop**.\n",
    "\n",
    "### `if` statement\n",
    "\n",
    "The form is the following:  \n",
    "`if <condition>:\n",
    "    <do something>\n",
    " elif <condition>:\n",
    "    <do something>\n",
    " else:\n",
    "    <do something>`\n",
    "    \n",
    " `<condition>` is anything that can be interpreted as a boolean"
   ]
  },
  {
   "cell_type": "code",
   "execution_count": 29,
   "metadata": {},
   "outputs": [
    {
     "name": "stdout",
     "output_type": "stream",
     "text": [
      "Visible light\n"
     ]
    }
   ],
   "source": [
    "# Example:\n",
    "\n",
    "l_nm = 500\n",
    "\n",
    "if l_nm < 400:\n",
    "    print('Ultraviolet')\n",
    "elif (l_nm >= 400) and (l_nm <= 700):    # putting condition in brackets is not compulsory but helps readability\n",
    "    print('Visible light')\n",
    "else:\n",
    "    print('Infrared')"
   ]
  },
  {
   "cell_type": "markdown",
   "metadata": {},
   "source": [
    "### `while` loop\n",
    "\n",
    "Such loop have a structure like:\n",
    "`while <condition>:\n",
    "    <do something>`\n",
    "    \n",
    "The while loop keeps executing the code inside until **the `<condition>` is False**.  \n",
    "There are essentialy 2 ways to interrupt a `while` loop:\n",
    "- with a **control variable**\n",
    "- with a break statement"
   ]
  },
  {
   "cell_type": "code",
   "execution_count": 30,
   "metadata": {},
   "outputs": [
    {
     "name": "stdout",
     "output_type": "stream",
     "text": [
      "1\n",
      "4\n",
      "9\n",
      "16\n",
      "25\n",
      "36\n",
      "49\n"
     ]
    }
   ],
   "source": [
    "# Print all the perfect squares less than 50\n",
    "\n",
    "n = 1               # n is our control variable\n",
    "\n",
    "while n**2 < 50:    # it appears in the main condition\n",
    "    print(n**2,)\n",
    "    n = n + 1       # and its values is changed INSIDE the while loop"
   ]
  },
  {
   "cell_type": "code",
   "execution_count": 32,
   "metadata": {},
   "outputs": [
    {
     "name": "stdout",
     "output_type": "stream",
     "text": [
      "1\n",
      "5\n",
      "3\n",
      "3\n"
     ]
    }
   ],
   "source": [
    "# Rool a dice and stop when you get 6\n",
    "\n",
    "from random import randint    # don't worry about it. randint helps us generating random integers\n",
    "\n",
    "while True:\n",
    "    result = randint(1, 6)\n",
    "    if result == 6:\n",
    "        break                # the break statement is precedeed by an if statement\n",
    "    else:\n",
    "        print(result, )"
   ]
  },
  {
   "cell_type": "markdown",
   "metadata": {},
   "source": [
    "### `for` loop\n",
    "\n",
    "The structure is the following:  \n",
    "`for <element> in <sequence>:\n",
    "    <do something>`  \n",
    "  \n",
    "<sequence> can be a tuple, a list, a string, an iterator (like `range()`).  \n",
    "See the exemples below!!"
   ]
  },
  {
   "cell_type": "code",
   "execution_count": 33,
   "metadata": {},
   "outputs": [
    {
     "name": "stdout",
     "output_type": "stream",
     "text": [
      "S\n",
      "t\n",
      "a\n",
      "t\n",
      "i\n",
      "s\n",
      "t\n",
      "i\n",
      "c\n",
      "s\n"
     ]
    }
   ],
   "source": [
    "for letter in 'Statistics':     # a string is a sequence\n",
    "    print(letter)               # Mind the : AFTER THE SEQUENCE and the INDENTATION"
   ]
  },
  {
   "cell_type": "code",
   "execution_count": 34,
   "metadata": {},
   "outputs": [
    {
     "name": "stdout",
     "output_type": "stream",
     "text": [
      "2\n",
      "3\n",
      "4\n",
      "5\n",
      "6\n"
     ]
    }
   ],
   "source": [
    "for n in [1, 2, 3, 4, 5]:   # a list is a sequence\n",
    "    m = n + 1\n",
    "    print(m)"
   ]
  },
  {
   "cell_type": "code",
   "execution_count": 35,
   "metadata": {},
   "outputs": [
    {
     "name": "stdout",
     "output_type": "stream",
     "text": [
      "python is nice\n",
      "C++ is acceptable\n",
      "Java is nightmare\n"
     ]
    }
   ],
   "source": [
    "languages = {\"python\": \"nice\", \"C++\": \"acceptable\", \"Java\": \"nightmare\"}\n",
    "\n",
    "for k, v in languages.items():   # we can loop on multiple elements (technically, we are looping ON A TUPLE)\n",
    "    print(k, \"is\", v)"
   ]
  },
  {
   "cell_type": "markdown",
   "metadata": {},
   "source": [
    "Here we'll se the existence of only two iterables useful in `for` looping: `range(start, stop, step)` and `enumerate()` \n",
    "- **`range()`**"
   ]
  },
  {
   "cell_type": "code",
   "execution_count": 36,
   "metadata": {},
   "outputs": [
    {
     "name": "stdout",
     "output_type": "stream",
     "text": [
      "range(0, 8)\n"
     ]
    }
   ],
   "source": [
    "print(range(8))"
   ]
  },
  {
   "cell_type": "code",
   "execution_count": 37,
   "metadata": {},
   "outputs": [
    {
     "name": "stdout",
     "output_type": "stream",
     "text": [
      "5\n",
      "6\n",
      "7\n",
      "8\n",
      "9\n"
     ]
    }
   ],
   "source": [
    "for n in range(5, 10):  # the stop IS NOT INCLUDED\n",
    "    print(n)"
   ]
  },
  {
   "cell_type": "code",
   "execution_count": 38,
   "metadata": {},
   "outputs": [
    {
     "name": "stdout",
     "output_type": "stream",
     "text": [
      "5\n",
      "7\n",
      "9\n"
     ]
    }
   ],
   "source": [
    "for n in range(5, 10, 2):\n",
    "    print(n)"
   ]
  },
  {
   "cell_type": "markdown",
   "metadata": {},
   "source": [
    "- **`enumerate()`**  \n",
    "Enumerate assigns a number to each element of an object"
   ]
  },
  {
   "cell_type": "code",
   "execution_count": 39,
   "metadata": {},
   "outputs": [
    {
     "name": "stdout",
     "output_type": "stream",
     "text": [
      "0 gino\n",
      "1 pino\n",
      "2 rino\n"
     ]
    }
   ],
   "source": [
    "names = ['gino', 'pino', 'rino']\n",
    "\n",
    "for i, n in enumerate(names):\n",
    "    print(i, n)"
   ]
  },
  {
   "cell_type": "code",
   "execution_count": 40,
   "metadata": {},
   "outputs": [
    {
     "name": "stdout",
     "output_type": "stream",
     "text": [
      "0\n",
      "3\n",
      "14\n",
      "45\n",
      "400\n",
      "1052.5\n"
     ]
    }
   ],
   "source": [
    "# TO DO: here you have a list. With a for loop, print the element of the list multiplied by its index number.\n",
    "# HINT: use enumerate() ;)\n",
    "\n",
    "some_list = [1, 3, 7, 15, 100, 210.5]\n",
    "\n",
    "# YOUR CODE HERE\n",
    "\n",
    "for i, element in enumerate(some_list):\n",
    "    print(element * i)"
   ]
  }
 ],
 "metadata": {
  "kernelspec": {
   "display_name": "bigdiveconda",
   "language": "python",
   "name": "anaconda3-5.1.0"
  },
  "language_info": {
   "codemirror_mode": {
    "name": "ipython",
    "version": 3
   },
   "file_extension": ".py",
   "mimetype": "text/x-python",
   "name": "python",
   "nbconvert_exporter": "python",
   "pygments_lexer": "ipython3",
   "version": "3.6.4"
  }
 },
 "nbformat": 4,
 "nbformat_minor": 2
}
