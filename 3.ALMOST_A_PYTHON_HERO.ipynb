{
 "cells": [
  {
   "cell_type": "markdown",
   "metadata": {},
   "source": [
    "<img align=\"right\" width=\"200\" height=\"200\" src=\"ovalmoney-logo-green.png\">\n",
    "# A very hurried course in Python\n",
    "#### By Stefano Calderan, Data Scientist @ Oval Money"
   ]
  },
  {
   "cell_type": "markdown",
   "metadata": {},
   "source": [
    "You remember this, right?"
   ]
  },
  {
   "cell_type": "code",
   "execution_count": null,
   "metadata": {},
   "outputs": [],
   "source": [
    "l = [1, 2, 3]\n",
    "d = {'z': 0, 'u': 1}\n",
    "s = {8, 9, 2, 5, 8, 9, 2, 5}\n",
    "\n",
    "print(type(l), type(d), type(s))"
   ]
  },
  {
   "cell_type": "markdown",
   "metadata": {},
   "source": [
    "## Classes\n",
    "\n",
    "**Classes** are objects that provide a means of bundling **data and functionality** together. \n",
    "Control flows, `with` statements, exception handling ect. is what *procedural programming* is made of.\n",
    "Classes are the foundation of what is called *Object Oriented Programming (OOP)*. This is a programming paradigm based on the concept of **\"objects\"**, which may contain **data, in the form of** fields, often known as **attributes**; and **code, in the form of** procedures, often known as **methods**.  \n",
    "\n",
    "A class defines how the objects should be: their status and the actions that they can perform to create their status. \n",
    "To create a particular specimen of a certain class is said creating an **instance** of that class.\n",
    "\n",
    "#### Structure of a class\n",
    "\n",
    "Creating a new type of object\n",
    "\n",
    "```python\n",
    "class ClassName():\n",
    "\n",
    "    def __init__(initial_arguments):\n",
    "        ...\n",
    "        \n",
    "    def method_1(arguments):\n",
    "        ...\n",
    "``` \n",
    "    \n",
    "Creating an instance:\n",
    "\n",
    "`instance_name = ClassName(initial_arguments)`  \n",
    "Let's see  together how to create a class"
   ]
  },
  {
   "cell_type": "code",
   "execution_count": null,
   "metadata": {},
   "outputs": [],
   "source": [
    "class PhDStudent():                   # creating the PhDStudent class \n",
    "    \n",
    "    def __init__(self, name, age):    # the __init__ method is 'special'. In it we define the initial status that\n",
    "                                      # new instances of this class will have.\n",
    "        self.age = age                # self is a protected keyword referring to the to-be-created instance.\n",
    "        self.name = name              # age and name are ATTRIBUTES"
   ]
  },
  {
   "cell_type": "code",
   "execution_count": null,
   "metadata": {},
   "outputs": [],
   "source": [
    "student = PhDStudent('Steve Rogers', 33)    # student is an instance of PhDStudent\n",
    "\n",
    "print(student.name, '---', student.age)"
   ]
  },
  {
   "cell_type": "code",
   "execution_count": null,
   "metadata": {},
   "outputs": [],
   "source": [
    "# Adding new methods\n",
    "\n",
    "class PhDStudent():                    \n",
    "    \n",
    "    def __init__(self, name, age=33):    # initial arguments can have DEFAULT values, as functions!\n",
    "                                     \n",
    "        self.age = age                \n",
    "        self.name = name\n",
    "        \n",
    "    def upper_name(self):                # by passing self, we give access to ALL the attributes of the instance!\n",
    "        up_name = self.name.upper()\n",
    "        return up_name\n",
    "    \n",
    "    \n",
    "student = PhDStudent(\"Steve Rogers\")\n",
    "big_name = student.upper_name()\n",
    "print(big_name)"
   ]
  },
  {
   "cell_type": "code",
   "execution_count": null,
   "metadata": {},
   "outputs": [],
   "source": [
    "# Methods that can CHANGE ATTRIBUTES\n",
    "\n",
    "class PhDStudent():                    \n",
    "    \n",
    "    def __init__(self, name, age=33, published_papers=0):    \n",
    "                                     \n",
    "        self.age = age                \n",
    "        self.name = name\n",
    "        self.published_papers = published_papers\n",
    "        \n",
    "    def upper_name(self):                \n",
    "        up_name = self.name.upper()\n",
    "        return up_name\n",
    "    \n",
    "    \n",
    "    def increase_papers(self, n):\n",
    "        \n",
    "        self.published_papers += n      # this means we're adding the number n to the published papaers\n",
    "        print('Yeeeeah!')"
   ]
  },
  {
   "cell_type": "code",
   "execution_count": null,
   "metadata": {},
   "outputs": [],
   "source": [
    "st = PhDStudent(\"Steve Rogers\")\n",
    "print(st.published_papers)\n",
    "\n",
    "st.increase_papers(2)                 # note that we don't pass the self argument: it is given by the instance itself!\n",
    "print(st.published_papers)"
   ]
  },
  {
   "cell_type": "code",
   "execution_count": null,
   "metadata": {},
   "outputs": [],
   "source": [
    "# TO DO: create a class Dog that accept this initial arguments: name (string) and bark_length (int) with \n",
    "# default value 1\n",
    "# Add a method .barking that prints the string 'Wof!' with as many 'o' as the number in bark_length\n",
    "# Add a method .increase_barking that accepts an int and MODIFIES the bark_length\n",
    "# create an instance of dog and try your methods\n",
    "# YOUR CODE HERE\n",
    "\n",
    "\n"
   ]
  },
  {
   "cell_type": "markdown",
   "metadata": {},
   "source": [
    "## Working with dates\n",
    "\n",
    "Date objects can be misleading in `python`. Let's see quickly how to create them and the most useful methods"
   ]
  },
  {
   "cell_type": "code",
   "execution_count": null,
   "metadata": {},
   "outputs": [],
   "source": [
    "import datetime as dt         # this is the main module containing all the main operations with dates"
   ]
  },
  {
   "cell_type": "code",
   "execution_count": null,
   "metadata": {},
   "outputs": [],
   "source": [
    "dt.date.today()               # date is a submodule of datetime. today() is a method!"
   ]
  },
  {
   "cell_type": "code",
   "execution_count": null,
   "metadata": {},
   "outputs": [],
   "source": [
    "# Creating a new date instance\n",
    "\n",
    "my_birthday = dt.date(1991, 12, 12)   # year, month, day\n",
    "\n",
    "# Access the attributes\n",
    "print(my_birthday.year, my_birthday.month, my_birthday.day)\n",
    "\n",
    "# Access the methods\n",
    "print(my_birthday.weekday(), my_birthday.isoweekday())"
   ]
  },
  {
   "cell_type": "code",
   "execution_count": null,
   "metadata": {},
   "outputs": [],
   "source": [
    "# We can also create datetime values\n",
    "\n",
    "now = dt.datetime.now()       # datetime is another submodule (like date) of module datetime\n",
    "print(now)\n",
    "print(now.hour, now.minute, now.second)\n",
    "\n",
    "my_datetime = dt.datetime(2018, 9, 17)\n",
    "print(my_datetime)\n",
    "print(my_datetime.date(), '---', my_datetime.time())"
   ]
  },
  {
   "cell_type": "code",
   "execution_count": null,
   "metadata": {},
   "outputs": [],
   "source": [
    "# A delta of time is given by the timedelta class\n",
    "\n",
    "week_delta = dt.timedelta(days=7)\n",
    "\n",
    "# A date plus a timedelta return a date\n",
    "next_week = dt.date.today() + week_delta\n",
    "print(next_week)\n",
    "\n",
    "# A date minus a date return a timedelta\n",
    "days_delta = next_week - dt.date.today()\n",
    "print(days_delta, type(days_delta))"
   ]
  },
  {
   "cell_type": "code",
   "execution_count": null,
   "metadata": {},
   "outputs": [],
   "source": [
    "# TO DO: create the date variable my_birthday with your birthday.\n",
    "# Then, using date operations, find your age (in years ;) )\n",
    "# YOUR CODE HERE\n",
    "\n",
    "\n"
   ]
  },
  {
   "cell_type": "markdown",
   "metadata": {},
   "source": [
    "## MATH AND STATISTICS LIBRARIES"
   ]
  },
  {
   "cell_type": "code",
   "execution_count": null,
   "metadata": {},
   "outputs": [],
   "source": [
    "import math\n",
    "import statistics as stat"
   ]
  },
  {
   "cell_type": "code",
   "execution_count": null,
   "metadata": {},
   "outputs": [],
   "source": [
    "math.sqrt(225), math.factorial(5)"
   ]
  },
  {
   "cell_type": "code",
   "execution_count": null,
   "metadata": {},
   "outputs": [],
   "source": [
    "math.pi, math.tan(math.pi)"
   ]
  },
  {
   "cell_type": "code",
   "execution_count": null,
   "metadata": {},
   "outputs": [],
   "source": [
    "ages = [37, 34, 27, 39, 43, 34, 33, 26, 31, 26, 28, 42, 33, 32, 39, 33]\n",
    "\n",
    "print(stat.mean(ages), stat.median(ages), stat.mode(ages), stat.stdev(ages))"
   ]
  }
 ],
 "metadata": {
  "kernelspec": {
   "display_name": "bigdiveconda",
   "language": "python",
   "name": "anaconda3-5.1.0"
  },
  "language_info": {
   "codemirror_mode": {
    "name": "ipython",
    "version": 3
   },
   "file_extension": ".py",
   "mimetype": "text/x-python",
   "name": "python",
   "nbconvert_exporter": "python",
   "pygments_lexer": "ipython3",
   "version": "3.6.4"
  }
 },
 "nbformat": 4,
 "nbformat_minor": 2
}
